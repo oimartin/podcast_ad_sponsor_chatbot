{
 "cells": [
  {
   "cell_type": "markdown",
   "metadata": {
    "id": "spUNYe2sw_B_"
   },
   "source": [
    "# Dependencies"
   ]
  },
  {
   "cell_type": "code",
   "execution_count": 1,
   "metadata": {
    "executionInfo": {
     "elapsed": 1689,
     "status": "ok",
     "timestamp": 1685830012895,
     "user": {
      "displayName": "Olivia. Martin",
      "userId": "09948875238606947895"
     },
     "user_tz": 300
    },
    "id": "5c5ptnskAHEC"
   },
   "outputs": [],
   "source": [
    "import pandas as pd\n",
    "import json\n",
    "import glob\n",
    "import seaborn as sns"
   ]
  },
  {
   "cell_type": "markdown",
   "metadata": {
    "id": "i8rwDunvQpvR"
   },
   "source": [
    "# load transcripts"
   ]
  },
  {
   "cell_type": "code",
   "execution_count": 3,
   "metadata": {
    "executionInfo": {
     "elapsed": 4780,
     "status": "ok",
     "timestamp": 1685830041519,
     "user": {
      "displayName": "Olivia. Martin",
      "userId": "09948875238606947895"
     },
     "user_tz": 300
    },
    "id": "cWM6Y1B2N9MA"
   },
   "outputs": [],
   "source": [
    "file_list = glob.glob(\"/content/gdrive/MyDrive/DataScience/Masters/453_Final_Project/2021/*.json\")"
   ]
  },
  {
   "cell_type": "code",
   "execution_count": null,
   "metadata": {
    "colab": {
     "base_uri": "https://localhost:8080/"
    },
    "executionInfo": {
     "elapsed": 7,
     "status": "ok",
     "timestamp": 1685755633634,
     "user": {
      "displayName": "Olivia. Martin",
      "userId": "09948875238606947895"
     },
     "user_tz": 300
    },
    "id": "hFqEub1w0FUA",
    "outputId": "6868d08c-2d23-40bc-8215-b3a2d85105e1"
   },
   "outputs": [
    {
     "data": {
      "text/plain": [
       "965"
      ]
     },
     "execution_count": 4,
     "metadata": {},
     "output_type": "execute_result"
    }
   ],
   "source": [
    "len(file_list)"
   ]
  },
  {
   "cell_type": "code",
   "execution_count": 4,
   "metadata": {
    "executionInfo": {
     "elapsed": 227675,
     "status": "ok",
     "timestamp": 1685830952959,
     "user": {
      "displayName": "Olivia. Martin",
      "userId": "09948875238606947895"
     },
     "user_tz": 300
    },
    "id": "RXs12ziTLZOG"
   },
   "outputs": [],
   "source": [
    "\n",
    "episode_transcript = {}\n",
    "for file_path in file_list:\n",
    "    episode_id = file_path[67:].replace('.json', '')\n",
    "    data = json.load(open(file_path))\n",
    "    \n",
    "    complete_transcript = []\n",
    "    \n",
    "    for result in range(0, len(data['results'])-1):\n",
    "    transcript_piece = data['results'][result]['alternatives'][0]['transcript']\n",
    "    complete_transcript.append(transcript_piece)\n",
    "    \n",
    "    joined_transcript = ' '.join([w for w in complete_transcript])\n",
    "    \n",
    "    episode_transcript.setdefault('episode_filename_prefix', [])\n",
    "    episode_transcript.setdefault('transcript', [])\n",
    "    episode_transcript['episode_filename_prefix'].append(episode_id)\n",
    "    episode_transcript['transcript'].append(joined_transcript)"
   ]
  },
  {
   "cell_type": "code",
   "execution_count": 5,
   "metadata": {
    "executionInfo": {
     "elapsed": 106,
     "status": "ok",
     "timestamp": 1685830968292,
     "user": {
      "displayName": "Olivia. Martin",
      "userId": "09948875238606947895"
     },
     "user_tz": 300
    },
    "id": "uLGAF7NrzL4q"
   },
   "outputs": [],
   "source": [
    "episode_transcrip_df = pd.DataFrame(episode_transcript).set_index('episode_filename_prefix')"
   ]
  },
  {
   "cell_type": "code",
   "execution_count": 6,
   "metadata": {
    "colab": {
     "base_uri": "https://localhost:8080/",
     "height": 143
    },
    "executionInfo": {
     "elapsed": 130,
     "status": "ok",
     "timestamp": 1685830969373,
     "user": {
      "displayName": "Olivia. Martin",
      "userId": "09948875238606947895"
     },
     "user_tz": 300
    },
    "id": "yxHR8ZJS4J_r",
    "outputId": "97cb4cc1-e5d9-4b9b-b1b3-bedbcd9d8a64"
   },
   "outputs": [
    {
     "data": {
      "text/html": [
       "\n",
       "  <div id=\"df-69171483-adf6-4107-a641-61188c670fdb\">\n",
       "    <div class=\"colab-df-container\">\n",
       "      <div>\n",
       "<style scoped>\n",
       "    .dataframe tbody tr th:only-of-type {\n",
       "        vertical-align: middle;\n",
       "    }\n",
       "\n",
       "    .dataframe tbody tr th {\n",
       "        vertical-align: top;\n",
       "    }\n",
       "\n",
       "    .dataframe thead th {\n",
       "        text-align: right;\n",
       "    }\n",
       "</style>\n",
       "<table border=\"1\" class=\"dataframe\">\n",
       "  <thead>\n",
       "    <tr style=\"text-align: right;\">\n",
       "      <th></th>\n",
       "      <th>transcript</th>\n",
       "    </tr>\n",
       "    <tr>\n",
       "      <th>episode_filename_prefix</th>\n",
       "      <th></th>\n",
       "    </tr>\n",
       "  </thead>\n",
       "  <tbody>\n",
       "    <tr>\n",
       "      <th>006Jtc8ejGidNU66JMmE9o</th>\n",
       "      <td>Hello, everyone, welcome back to astrology. No...</td>\n",
       "    </tr>\n",
       "    <tr>\n",
       "      <th>006zxfhIhzUKBz0sPFuikZ</th>\n",
       "      <td>It's time for the fantasy points podcast broug...</td>\n",
       "    </tr>\n",
       "  </tbody>\n",
       "</table>\n",
       "</div>\n",
       "      <button class=\"colab-df-convert\" onclick=\"convertToInteractive('df-69171483-adf6-4107-a641-61188c670fdb')\"\n",
       "              title=\"Convert this dataframe to an interactive table.\"\n",
       "              style=\"display:none;\">\n",
       "        \n",
       "  <svg xmlns=\"http://www.w3.org/2000/svg\" height=\"24px\"viewBox=\"0 0 24 24\"\n",
       "       width=\"24px\">\n",
       "    <path d=\"M0 0h24v24H0V0z\" fill=\"none\"/>\n",
       "    <path d=\"M18.56 5.44l.94 2.06.94-2.06 2.06-.94-2.06-.94-.94-2.06-.94 2.06-2.06.94zm-11 1L8.5 8.5l.94-2.06 2.06-.94-2.06-.94L8.5 2.5l-.94 2.06-2.06.94zm10 10l.94 2.06.94-2.06 2.06-.94-2.06-.94-.94-2.06-.94 2.06-2.06.94z\"/><path d=\"M17.41 7.96l-1.37-1.37c-.4-.4-.92-.59-1.43-.59-.52 0-1.04.2-1.43.59L10.3 9.45l-7.72 7.72c-.78.78-.78 2.05 0 2.83L4 21.41c.39.39.9.59 1.41.59.51 0 1.02-.2 1.41-.59l7.78-7.78 2.81-2.81c.8-.78.8-2.07 0-2.86zM5.41 20L4 18.59l7.72-7.72 1.47 1.35L5.41 20z\"/>\n",
       "  </svg>\n",
       "      </button>\n",
       "      \n",
       "  <style>\n",
       "    .colab-df-container {\n",
       "      display:flex;\n",
       "      flex-wrap:wrap;\n",
       "      gap: 12px;\n",
       "    }\n",
       "\n",
       "    .colab-df-convert {\n",
       "      background-color: #E8F0FE;\n",
       "      border: none;\n",
       "      border-radius: 50%;\n",
       "      cursor: pointer;\n",
       "      display: none;\n",
       "      fill: #1967D2;\n",
       "      height: 32px;\n",
       "      padding: 0 0 0 0;\n",
       "      width: 32px;\n",
       "    }\n",
       "\n",
       "    .colab-df-convert:hover {\n",
       "      background-color: #E2EBFA;\n",
       "      box-shadow: 0px 1px 2px rgba(60, 64, 67, 0.3), 0px 1px 3px 1px rgba(60, 64, 67, 0.15);\n",
       "      fill: #174EA6;\n",
       "    }\n",
       "\n",
       "    [theme=dark] .colab-df-convert {\n",
       "      background-color: #3B4455;\n",
       "      fill: #D2E3FC;\n",
       "    }\n",
       "\n",
       "    [theme=dark] .colab-df-convert:hover {\n",
       "      background-color: #434B5C;\n",
       "      box-shadow: 0px 1px 3px 1px rgba(0, 0, 0, 0.15);\n",
       "      filter: drop-shadow(0px 1px 2px rgba(0, 0, 0, 0.3));\n",
       "      fill: #FFFFFF;\n",
       "    }\n",
       "  </style>\n",
       "\n",
       "      <script>\n",
       "        const buttonEl =\n",
       "          document.querySelector('#df-69171483-adf6-4107-a641-61188c670fdb button.colab-df-convert');\n",
       "        buttonEl.style.display =\n",
       "          google.colab.kernel.accessAllowed ? 'block' : 'none';\n",
       "\n",
       "        async function convertToInteractive(key) {\n",
       "          const element = document.querySelector('#df-69171483-adf6-4107-a641-61188c670fdb');\n",
       "          const dataTable =\n",
       "            await google.colab.kernel.invokeFunction('convertToInteractive',\n",
       "                                                     [key], {});\n",
       "          if (!dataTable) return;\n",
       "\n",
       "          const docLinkHtml = 'Like what you see? Visit the ' +\n",
       "            '<a target=\"_blank\" href=https://colab.research.google.com/notebooks/data_table.ipynb>data table notebook</a>'\n",
       "            + ' to learn more about interactive tables.';\n",
       "          element.innerHTML = '';\n",
       "          dataTable['output_type'] = 'display_data';\n",
       "          await google.colab.output.renderOutput(dataTable, element);\n",
       "          const docLink = document.createElement('div');\n",
       "          docLink.innerHTML = docLinkHtml;\n",
       "          element.appendChild(docLink);\n",
       "        }\n",
       "      </script>\n",
       "    </div>\n",
       "  </div>\n",
       "  "
      ],
      "text/plain": [
       "                                                                transcript\n",
       "episode_filename_prefix                                                   \n",
       "006Jtc8ejGidNU66JMmE9o   Hello, everyone, welcome back to astrology. No...\n",
       "006zxfhIhzUKBz0sPFuikZ   It's time for the fantasy points podcast broug..."
      ]
     },
     "execution_count": 6,
     "metadata": {},
     "output_type": "execute_result"
    }
   ],
   "source": [
    "episode_transcrip_df.head(2)"
   ]
  },
  {
   "cell_type": "markdown",
   "metadata": {
    "id": "oQVm5Fm45EIB"
   },
   "source": [
    "# Get Meta Data 2"
   ]
  },
  {
   "cell_type": "code",
   "execution_count": 7,
   "metadata": {
    "colab": {
     "base_uri": "https://localhost:8080/",
     "height": 315
    },
    "executionInfo": {
     "elapsed": 338,
     "status": "ok",
     "timestamp": 1685830973258,
     "user": {
      "displayName": "Olivia. Martin",
      "userId": "09948875238606947895"
     },
     "user_tz": 300
    },
    "id": "T3InQajTUgIc",
    "outputId": "cefee5ce-428c-4df5-e066-46b6754d86a7"
   },
   "outputs": [
    {
     "data": {
      "text/html": [
       "\n",
       "  <div id=\"df-8f7bdfb2-21b9-47c5-9724-18efb3ce97d5\">\n",
       "    <div class=\"colab-df-container\">\n",
       "      <div>\n",
       "<style scoped>\n",
       "    .dataframe tbody tr th:only-of-type {\n",
       "        vertical-align: middle;\n",
       "    }\n",
       "\n",
       "    .dataframe tbody tr th {\n",
       "        vertical-align: top;\n",
       "    }\n",
       "\n",
       "    .dataframe thead th {\n",
       "        text-align: right;\n",
       "    }\n",
       "</style>\n",
       "<table border=\"1\" class=\"dataframe\">\n",
       "  <thead>\n",
       "    <tr style=\"text-align: right;\">\n",
       "      <th></th>\n",
       "      <th>show_uri</th>\n",
       "      <th>show_name</th>\n",
       "      <th>show_description</th>\n",
       "      <th>publisher</th>\n",
       "      <th>language</th>\n",
       "      <th>rss_link</th>\n",
       "      <th>episode_uri</th>\n",
       "      <th>episode_name</th>\n",
       "      <th>episode_description</th>\n",
       "      <th>duration</th>\n",
       "    </tr>\n",
       "  </thead>\n",
       "  <tbody>\n",
       "    <tr>\n",
       "      <th>0</th>\n",
       "      <td>spotify:show:63uxjpLRnQYcxpvHTMhExl</td>\n",
       "      <td>Bringing the Human back to Human Resources</td>\n",
       "      <td>People are at the center of every business--or...</td>\n",
       "      <td>Traci Rubin</td>\n",
       "      <td>en-US</td>\n",
       "      <td>https://anchor.fm/s/52984854/podcast/rss</td>\n",
       "      <td>spotify:episode:2qGUC8klqETUSpaqmjjzDZ</td>\n",
       "      <td>De-stigmatizing HR</td>\n",
       "      <td>On this episode of \"Bringing the Human back to...</td>\n",
       "      <td>1884395</td>\n",
       "    </tr>\n",
       "    <tr>\n",
       "      <th>1</th>\n",
       "      <td>spotify:show:63uxjpLRnQYcxpvHTMhExl</td>\n",
       "      <td>Bringing the Human back to Human Resources</td>\n",
       "      <td>People are at the center of every business--or...</td>\n",
       "      <td>Traci Rubin</td>\n",
       "      <td>en-US</td>\n",
       "      <td>https://anchor.fm/s/52984854/podcast/rss</td>\n",
       "      <td>spotify:episode:3yBUhLxrYeRr0C7VkdYeIQ</td>\n",
       "      <td>The Emotional Impact of Layoffs</td>\n",
       "      <td>In this week's episode, Traci talks about the ...</td>\n",
       "      <td>1682286</td>\n",
       "    </tr>\n",
       "  </tbody>\n",
       "</table>\n",
       "</div>\n",
       "      <button class=\"colab-df-convert\" onclick=\"convertToInteractive('df-8f7bdfb2-21b9-47c5-9724-18efb3ce97d5')\"\n",
       "              title=\"Convert this dataframe to an interactive table.\"\n",
       "              style=\"display:none;\">\n",
       "        \n",
       "  <svg xmlns=\"http://www.w3.org/2000/svg\" height=\"24px\"viewBox=\"0 0 24 24\"\n",
       "       width=\"24px\">\n",
       "    <path d=\"M0 0h24v24H0V0z\" fill=\"none\"/>\n",
       "    <path d=\"M18.56 5.44l.94 2.06.94-2.06 2.06-.94-2.06-.94-.94-2.06-.94 2.06-2.06.94zm-11 1L8.5 8.5l.94-2.06 2.06-.94-2.06-.94L8.5 2.5l-.94 2.06-2.06.94zm10 10l.94 2.06.94-2.06 2.06-.94-2.06-.94-.94-2.06-.94 2.06-2.06.94z\"/><path d=\"M17.41 7.96l-1.37-1.37c-.4-.4-.92-.59-1.43-.59-.52 0-1.04.2-1.43.59L10.3 9.45l-7.72 7.72c-.78.78-.78 2.05 0 2.83L4 21.41c.39.39.9.59 1.41.59.51 0 1.02-.2 1.41-.59l7.78-7.78 2.81-2.81c.8-.78.8-2.07 0-2.86zM5.41 20L4 18.59l7.72-7.72 1.47 1.35L5.41 20z\"/>\n",
       "  </svg>\n",
       "      </button>\n",
       "      \n",
       "  <style>\n",
       "    .colab-df-container {\n",
       "      display:flex;\n",
       "      flex-wrap:wrap;\n",
       "      gap: 12px;\n",
       "    }\n",
       "\n",
       "    .colab-df-convert {\n",
       "      background-color: #E8F0FE;\n",
       "      border: none;\n",
       "      border-radius: 50%;\n",
       "      cursor: pointer;\n",
       "      display: none;\n",
       "      fill: #1967D2;\n",
       "      height: 32px;\n",
       "      padding: 0 0 0 0;\n",
       "      width: 32px;\n",
       "    }\n",
       "\n",
       "    .colab-df-convert:hover {\n",
       "      background-color: #E2EBFA;\n",
       "      box-shadow: 0px 1px 2px rgba(60, 64, 67, 0.3), 0px 1px 3px 1px rgba(60, 64, 67, 0.15);\n",
       "      fill: #174EA6;\n",
       "    }\n",
       "\n",
       "    [theme=dark] .colab-df-convert {\n",
       "      background-color: #3B4455;\n",
       "      fill: #D2E3FC;\n",
       "    }\n",
       "\n",
       "    [theme=dark] .colab-df-convert:hover {\n",
       "      background-color: #434B5C;\n",
       "      box-shadow: 0px 1px 3px 1px rgba(0, 0, 0, 0.15);\n",
       "      filter: drop-shadow(0px 1px 2px rgba(0, 0, 0, 0.3));\n",
       "      fill: #FFFFFF;\n",
       "    }\n",
       "  </style>\n",
       "\n",
       "      <script>\n",
       "        const buttonEl =\n",
       "          document.querySelector('#df-8f7bdfb2-21b9-47c5-9724-18efb3ce97d5 button.colab-df-convert');\n",
       "        buttonEl.style.display =\n",
       "          google.colab.kernel.accessAllowed ? 'block' : 'none';\n",
       "\n",
       "        async function convertToInteractive(key) {\n",
       "          const element = document.querySelector('#df-8f7bdfb2-21b9-47c5-9724-18efb3ce97d5');\n",
       "          const dataTable =\n",
       "            await google.colab.kernel.invokeFunction('convertToInteractive',\n",
       "                                                     [key], {});\n",
       "          if (!dataTable) return;\n",
       "\n",
       "          const docLinkHtml = 'Like what you see? Visit the ' +\n",
       "            '<a target=\"_blank\" href=https://colab.research.google.com/notebooks/data_table.ipynb>data table notebook</a>'\n",
       "            + ' to learn more about interactive tables.';\n",
       "          element.innerHTML = '';\n",
       "          dataTable['output_type'] = 'display_data';\n",
       "          await google.colab.output.renderOutput(dataTable, element);\n",
       "          const docLink = document.createElement('div');\n",
       "          docLink.innerHTML = docLinkHtml;\n",
       "          element.appendChild(docLink);\n",
       "        }\n",
       "      </script>\n",
       "    </div>\n",
       "  </div>\n",
       "  "
      ],
      "text/plain": [
       "                              show_uri  \\\n",
       "0  spotify:show:63uxjpLRnQYcxpvHTMhExl   \n",
       "1  spotify:show:63uxjpLRnQYcxpvHTMhExl   \n",
       "\n",
       "                                    show_name  \\\n",
       "0  Bringing the Human back to Human Resources   \n",
       "1  Bringing the Human back to Human Resources   \n",
       "\n",
       "                                    show_description    publisher language  \\\n",
       "0  People are at the center of every business--or...  Traci Rubin    en-US   \n",
       "1  People are at the center of every business--or...  Traci Rubin    en-US   \n",
       "\n",
       "                                   rss_link  \\\n",
       "0  https://anchor.fm/s/52984854/podcast/rss   \n",
       "1  https://anchor.fm/s/52984854/podcast/rss   \n",
       "\n",
       "                              episode_uri                     episode_name  \\\n",
       "0  spotify:episode:2qGUC8klqETUSpaqmjjzDZ               De-stigmatizing HR   \n",
       "1  spotify:episode:3yBUhLxrYeRr0C7VkdYeIQ  The Emotional Impact of Layoffs   \n",
       "\n",
       "                                 episode_description  duration  \n",
       "0  On this episode of \"Bringing the Human back to...   1884395  \n",
       "1  In this week's episode, Traci talks about the ...   1682286  "
      ]
     },
     "execution_count": 7,
     "metadata": {},
     "output_type": "execute_result"
    }
   ],
   "source": [
    "\n",
    "metadata = pd.read_csv('/content/gdrive/MyDrive/DataScience/Masters/453_Final_Project/2021/spotify-podcasts-2021-summarization-testset-meta.csv')\n",
    "metadata.head(2)"
   ]
  },
  {
   "cell_type": "code",
   "execution_count": 8,
   "metadata": {
    "executionInfo": {
     "elapsed": 116,
     "status": "ok",
     "timestamp": 1685830977371,
     "user": {
      "displayName": "Olivia. Martin",
      "userId": "09948875238606947895"
     },
     "user_tz": 300
    },
    "id": "KntWuYsx7XHr"
   },
   "outputs": [],
   "source": [
    "metadata['metadata_combined'] = (\"podcast name: \" + metadata['show_name'] + \" \" + \n",
    "                                  \"podcast description: \" + metadata['show_description'] + \" \" +\n",
    "                                  \"podcast publisher: \" + metadata['publisher'] + \" \" +\n",
    "                                  \"podcast episode name: \" + metadata['episode_name'] + \" \" +\n",
    "                                  \"podcast episode description: \" + metadata['episode_description'] + \" \" +\n",
    "                                  \"minutes: \" + str(round((metadata['duration']  / 60000),0)) + \"minutes\")"
   ]
  },
  {
   "cell_type": "code",
   "execution_count": 10,
   "metadata": {
    "colab": {
     "base_uri": "https://localhost:8080/",
     "height": 206
    },
    "executionInfo": {
     "elapsed": 111,
     "status": "ok",
     "timestamp": 1685831242489,
     "user": {
      "displayName": "Olivia. Martin",
      "userId": "09948875238606947895"
     },
     "user_tz": 300
    },
    "id": "Swowc7Fk9w1j",
    "outputId": "5fc2da04-e4d9-4217-b649-175cbb857fcc"
   },
   "outputs": [
    {
     "data": {
      "text/html": [
       "\n",
       "  <div id=\"df-d2c9719c-5930-4255-b2f2-6ecd5a0970b4\">\n",
       "    <div class=\"colab-df-container\">\n",
       "      <div>\n",
       "<style scoped>\n",
       "    .dataframe tbody tr th:only-of-type {\n",
       "        vertical-align: middle;\n",
       "    }\n",
       "\n",
       "    .dataframe tbody tr th {\n",
       "        vertical-align: top;\n",
       "    }\n",
       "\n",
       "    .dataframe thead th {\n",
       "        text-align: right;\n",
       "    }\n",
       "</style>\n",
       "<table border=\"1\" class=\"dataframe\">\n",
       "  <thead>\n",
       "    <tr style=\"text-align: right;\">\n",
       "      <th></th>\n",
       "      <th>episode_uri</th>\n",
       "      <th>metadata_combined</th>\n",
       "    </tr>\n",
       "  </thead>\n",
       "  <tbody>\n",
       "    <tr>\n",
       "      <th>0</th>\n",
       "      <td>spotify:episode:2qGUC8klqETUSpaqmjjzDZ</td>\n",
       "      <td>podcast name: Bringing the Human back to Human...</td>\n",
       "    </tr>\n",
       "    <tr>\n",
       "      <th>1</th>\n",
       "      <td>spotify:episode:3yBUhLxrYeRr0C7VkdYeIQ</td>\n",
       "      <td>podcast name: Bringing the Human back to Human...</td>\n",
       "    </tr>\n",
       "    <tr>\n",
       "      <th>2</th>\n",
       "      <td>spotify:episode:01vE6mGTKhqHsmEFfqjJUw</td>\n",
       "      <td>podcast name: Bringing the Human back to Human...</td>\n",
       "    </tr>\n",
       "    <tr>\n",
       "      <th>3</th>\n",
       "      <td>spotify:episode:71w6Ak1Cw6wpyEx0fpFOm9</td>\n",
       "      <td>podcast name: JRE Clips podcast description: T...</td>\n",
       "    </tr>\n",
       "    <tr>\n",
       "      <th>4</th>\n",
       "      <td>spotify:episode:6mGrJgs1NPKOX9tGIDcvRJ</td>\n",
       "      <td>podcast name: Bold Alpha podcast description: ...</td>\n",
       "    </tr>\n",
       "  </tbody>\n",
       "</table>\n",
       "</div>\n",
       "      <button class=\"colab-df-convert\" onclick=\"convertToInteractive('df-d2c9719c-5930-4255-b2f2-6ecd5a0970b4')\"\n",
       "              title=\"Convert this dataframe to an interactive table.\"\n",
       "              style=\"display:none;\">\n",
       "        \n",
       "  <svg xmlns=\"http://www.w3.org/2000/svg\" height=\"24px\"viewBox=\"0 0 24 24\"\n",
       "       width=\"24px\">\n",
       "    <path d=\"M0 0h24v24H0V0z\" fill=\"none\"/>\n",
       "    <path d=\"M18.56 5.44l.94 2.06.94-2.06 2.06-.94-2.06-.94-.94-2.06-.94 2.06-2.06.94zm-11 1L8.5 8.5l.94-2.06 2.06-.94-2.06-.94L8.5 2.5l-.94 2.06-2.06.94zm10 10l.94 2.06.94-2.06 2.06-.94-2.06-.94-.94-2.06-.94 2.06-2.06.94z\"/><path d=\"M17.41 7.96l-1.37-1.37c-.4-.4-.92-.59-1.43-.59-.52 0-1.04.2-1.43.59L10.3 9.45l-7.72 7.72c-.78.78-.78 2.05 0 2.83L4 21.41c.39.39.9.59 1.41.59.51 0 1.02-.2 1.41-.59l7.78-7.78 2.81-2.81c.8-.78.8-2.07 0-2.86zM5.41 20L4 18.59l7.72-7.72 1.47 1.35L5.41 20z\"/>\n",
       "  </svg>\n",
       "      </button>\n",
       "      \n",
       "  <style>\n",
       "    .colab-df-container {\n",
       "      display:flex;\n",
       "      flex-wrap:wrap;\n",
       "      gap: 12px;\n",
       "    }\n",
       "\n",
       "    .colab-df-convert {\n",
       "      background-color: #E8F0FE;\n",
       "      border: none;\n",
       "      border-radius: 50%;\n",
       "      cursor: pointer;\n",
       "      display: none;\n",
       "      fill: #1967D2;\n",
       "      height: 32px;\n",
       "      padding: 0 0 0 0;\n",
       "      width: 32px;\n",
       "    }\n",
       "\n",
       "    .colab-df-convert:hover {\n",
       "      background-color: #E2EBFA;\n",
       "      box-shadow: 0px 1px 2px rgba(60, 64, 67, 0.3), 0px 1px 3px 1px rgba(60, 64, 67, 0.15);\n",
       "      fill: #174EA6;\n",
       "    }\n",
       "\n",
       "    [theme=dark] .colab-df-convert {\n",
       "      background-color: #3B4455;\n",
       "      fill: #D2E3FC;\n",
       "    }\n",
       "\n",
       "    [theme=dark] .colab-df-convert:hover {\n",
       "      background-color: #434B5C;\n",
       "      box-shadow: 0px 1px 3px 1px rgba(0, 0, 0, 0.15);\n",
       "      filter: drop-shadow(0px 1px 2px rgba(0, 0, 0, 0.3));\n",
       "      fill: #FFFFFF;\n",
       "    }\n",
       "  </style>\n",
       "\n",
       "      <script>\n",
       "        const buttonEl =\n",
       "          document.querySelector('#df-d2c9719c-5930-4255-b2f2-6ecd5a0970b4 button.colab-df-convert');\n",
       "        buttonEl.style.display =\n",
       "          google.colab.kernel.accessAllowed ? 'block' : 'none';\n",
       "\n",
       "        async function convertToInteractive(key) {\n",
       "          const element = document.querySelector('#df-d2c9719c-5930-4255-b2f2-6ecd5a0970b4');\n",
       "          const dataTable =\n",
       "            await google.colab.kernel.invokeFunction('convertToInteractive',\n",
       "                                                     [key], {});\n",
       "          if (!dataTable) return;\n",
       "\n",
       "          const docLinkHtml = 'Like what you see? Visit the ' +\n",
       "            '<a target=\"_blank\" href=https://colab.research.google.com/notebooks/data_table.ipynb>data table notebook</a>'\n",
       "            + ' to learn more about interactive tables.';\n",
       "          element.innerHTML = '';\n",
       "          dataTable['output_type'] = 'display_data';\n",
       "          await google.colab.output.renderOutput(dataTable, element);\n",
       "          const docLink = document.createElement('div');\n",
       "          docLink.innerHTML = docLinkHtml;\n",
       "          element.appendChild(docLink);\n",
       "        }\n",
       "      </script>\n",
       "    </div>\n",
       "  </div>\n",
       "  "
      ],
      "text/plain": [
       "                              episode_uri  \\\n",
       "0  spotify:episode:2qGUC8klqETUSpaqmjjzDZ   \n",
       "1  spotify:episode:3yBUhLxrYeRr0C7VkdYeIQ   \n",
       "2  spotify:episode:01vE6mGTKhqHsmEFfqjJUw   \n",
       "3  spotify:episode:71w6Ak1Cw6wpyEx0fpFOm9   \n",
       "4  spotify:episode:6mGrJgs1NPKOX9tGIDcvRJ   \n",
       "\n",
       "                                   metadata_combined  \n",
       "0  podcast name: Bringing the Human back to Human...  \n",
       "1  podcast name: Bringing the Human back to Human...  \n",
       "2  podcast name: Bringing the Human back to Human...  \n",
       "3  podcast name: JRE Clips podcast description: T...  \n",
       "4  podcast name: Bold Alpha podcast description: ...  "
      ]
     },
     "execution_count": 10,
     "metadata": {},
     "output_type": "execute_result"
    }
   ],
   "source": [
    "metadata_21 = metadata.copy().drop(columns=[\"show_name\", \"show_description\",\n",
    "                                     \"publisher\", \"episode_name\",\n",
    "                                     \"episode_description\",\"duration\",\n",
    "                                     'show_uri', 'language', 'rss_link'])\n",
    "\n",
    "metadata_21.head()"
   ]
  },
  {
   "cell_type": "code",
   "execution_count": 15,
   "metadata": {
    "colab": {
     "base_uri": "https://localhost:8080/",
     "height": 143
    },
    "executionInfo": {
     "elapsed": 107,
     "status": "ok",
     "timestamp": 1685831502021,
     "user": {
      "displayName": "Olivia. Martin",
      "userId": "09948875238606947895"
     },
     "user_tz": 300
    },
    "id": "hcfDgnv75ze6",
    "outputId": "fb9ad268-8553-4655-f9c3-1f9d768f059e"
   },
   "outputs": [
    {
     "data": {
      "text/html": [
       "\n",
       "  <div id=\"df-28190824-dfba-43ce-8d5c-cf07b08b3c09\">\n",
       "    <div class=\"colab-df-container\">\n",
       "      <div>\n",
       "<style scoped>\n",
       "    .dataframe tbody tr th:only-of-type {\n",
       "        vertical-align: middle;\n",
       "    }\n",
       "\n",
       "    .dataframe tbody tr th {\n",
       "        vertical-align: top;\n",
       "    }\n",
       "\n",
       "    .dataframe thead th {\n",
       "        text-align: right;\n",
       "    }\n",
       "</style>\n",
       "<table border=\"1\" class=\"dataframe\">\n",
       "  <thead>\n",
       "    <tr style=\"text-align: right;\">\n",
       "      <th></th>\n",
       "      <th>episode_uri</th>\n",
       "      <th>metadata_combined</th>\n",
       "    </tr>\n",
       "    <tr>\n",
       "      <th>episode_filename_prefix</th>\n",
       "      <th></th>\n",
       "      <th></th>\n",
       "    </tr>\n",
       "  </thead>\n",
       "  <tbody>\n",
       "    <tr>\n",
       "      <th>2qGUC8klqETUSpaqmjjzDZ</th>\n",
       "      <td>spotify:episode:2qGUC8klqETUSpaqmjjzDZ</td>\n",
       "      <td>podcast name: Bringing the Human back to Human...</td>\n",
       "    </tr>\n",
       "    <tr>\n",
       "      <th>3yBUhLxrYeRr0C7VkdYeIQ</th>\n",
       "      <td>spotify:episode:3yBUhLxrYeRr0C7VkdYeIQ</td>\n",
       "      <td>podcast name: Bringing the Human back to Human...</td>\n",
       "    </tr>\n",
       "  </tbody>\n",
       "</table>\n",
       "</div>\n",
       "      <button class=\"colab-df-convert\" onclick=\"convertToInteractive('df-28190824-dfba-43ce-8d5c-cf07b08b3c09')\"\n",
       "              title=\"Convert this dataframe to an interactive table.\"\n",
       "              style=\"display:none;\">\n",
       "        \n",
       "  <svg xmlns=\"http://www.w3.org/2000/svg\" height=\"24px\"viewBox=\"0 0 24 24\"\n",
       "       width=\"24px\">\n",
       "    <path d=\"M0 0h24v24H0V0z\" fill=\"none\"/>\n",
       "    <path d=\"M18.56 5.44l.94 2.06.94-2.06 2.06-.94-2.06-.94-.94-2.06-.94 2.06-2.06.94zm-11 1L8.5 8.5l.94-2.06 2.06-.94-2.06-.94L8.5 2.5l-.94 2.06-2.06.94zm10 10l.94 2.06.94-2.06 2.06-.94-2.06-.94-.94-2.06-.94 2.06-2.06.94z\"/><path d=\"M17.41 7.96l-1.37-1.37c-.4-.4-.92-.59-1.43-.59-.52 0-1.04.2-1.43.59L10.3 9.45l-7.72 7.72c-.78.78-.78 2.05 0 2.83L4 21.41c.39.39.9.59 1.41.59.51 0 1.02-.2 1.41-.59l7.78-7.78 2.81-2.81c.8-.78.8-2.07 0-2.86zM5.41 20L4 18.59l7.72-7.72 1.47 1.35L5.41 20z\"/>\n",
       "  </svg>\n",
       "      </button>\n",
       "      \n",
       "  <style>\n",
       "    .colab-df-container {\n",
       "      display:flex;\n",
       "      flex-wrap:wrap;\n",
       "      gap: 12px;\n",
       "    }\n",
       "\n",
       "    .colab-df-convert {\n",
       "      background-color: #E8F0FE;\n",
       "      border: none;\n",
       "      border-radius: 50%;\n",
       "      cursor: pointer;\n",
       "      display: none;\n",
       "      fill: #1967D2;\n",
       "      height: 32px;\n",
       "      padding: 0 0 0 0;\n",
       "      width: 32px;\n",
       "    }\n",
       "\n",
       "    .colab-df-convert:hover {\n",
       "      background-color: #E2EBFA;\n",
       "      box-shadow: 0px 1px 2px rgba(60, 64, 67, 0.3), 0px 1px 3px 1px rgba(60, 64, 67, 0.15);\n",
       "      fill: #174EA6;\n",
       "    }\n",
       "\n",
       "    [theme=dark] .colab-df-convert {\n",
       "      background-color: #3B4455;\n",
       "      fill: #D2E3FC;\n",
       "    }\n",
       "\n",
       "    [theme=dark] .colab-df-convert:hover {\n",
       "      background-color: #434B5C;\n",
       "      box-shadow: 0px 1px 3px 1px rgba(0, 0, 0, 0.15);\n",
       "      filter: drop-shadow(0px 1px 2px rgba(0, 0, 0, 0.3));\n",
       "      fill: #FFFFFF;\n",
       "    }\n",
       "  </style>\n",
       "\n",
       "      <script>\n",
       "        const buttonEl =\n",
       "          document.querySelector('#df-28190824-dfba-43ce-8d5c-cf07b08b3c09 button.colab-df-convert');\n",
       "        buttonEl.style.display =\n",
       "          google.colab.kernel.accessAllowed ? 'block' : 'none';\n",
       "\n",
       "        async function convertToInteractive(key) {\n",
       "          const element = document.querySelector('#df-28190824-dfba-43ce-8d5c-cf07b08b3c09');\n",
       "          const dataTable =\n",
       "            await google.colab.kernel.invokeFunction('convertToInteractive',\n",
       "                                                     [key], {});\n",
       "          if (!dataTable) return;\n",
       "\n",
       "          const docLinkHtml = 'Like what you see? Visit the ' +\n",
       "            '<a target=\"_blank\" href=https://colab.research.google.com/notebooks/data_table.ipynb>data table notebook</a>'\n",
       "            + ' to learn more about interactive tables.';\n",
       "          element.innerHTML = '';\n",
       "          dataTable['output_type'] = 'display_data';\n",
       "          await google.colab.output.renderOutput(dataTable, element);\n",
       "          const docLink = document.createElement('div');\n",
       "          docLink.innerHTML = docLinkHtml;\n",
       "          element.appendChild(docLink);\n",
       "        }\n",
       "      </script>\n",
       "    </div>\n",
       "  </div>\n",
       "  "
      ],
      "text/plain": [
       "                                                    episode_uri  \\\n",
       "episode_filename_prefix                                           \n",
       "2qGUC8klqETUSpaqmjjzDZ   spotify:episode:2qGUC8klqETUSpaqmjjzDZ   \n",
       "3yBUhLxrYeRr0C7VkdYeIQ   spotify:episode:3yBUhLxrYeRr0C7VkdYeIQ   \n",
       "\n",
       "                                                         metadata_combined  \n",
       "episode_filename_prefix                                                     \n",
       "2qGUC8klqETUSpaqmjjzDZ   podcast name: Bringing the Human back to Human...  \n",
       "3yBUhLxrYeRr0C7VkdYeIQ   podcast name: Bringing the Human back to Human...  "
      ]
     },
     "execution_count": 15,
     "metadata": {},
     "output_type": "execute_result"
    }
   ],
   "source": [
    "metadata_21['episode_filename_prefix'] = [episode.replace('spotify:episode:', '') for episode in metadata_21['episode_uri'].to_list()]\n",
    "metadata['episode_filename_prefix'] = [episode.replace('spotify:episode:', '') for episode in metadata['episode_uri'].to_list()]\n",
    "\n",
    "md_21 = metadata_21.set_index('episode_filename_prefix')\n",
    "md = metadata.copy().set_index('episode_filename_prefix')\n",
    "md_21.head(2)"
   ]
  },
  {
   "cell_type": "code",
   "execution_count": 17,
   "metadata": {
    "colab": {
     "base_uri": "https://localhost:8080/",
     "height": 143
    },
    "executionInfo": {
     "elapsed": 18,
     "status": "ok",
     "timestamp": 1685831558675,
     "user": {
      "displayName": "Olivia. Martin",
      "userId": "09948875238606947895"
     },
     "user_tz": 300
    },
    "id": "RN3jAseI5b1_",
    "outputId": "1167deeb-7424-49d1-f503-ed457c65d92c"
   },
   "outputs": [
    {
     "data": {
      "text/html": [
       "\n",
       "  <div id=\"df-36a99bec-0ed8-4165-bf50-75126ef6db80\">\n",
       "    <div class=\"colab-df-container\">\n",
       "      <div>\n",
       "<style scoped>\n",
       "    .dataframe tbody tr th:only-of-type {\n",
       "        vertical-align: middle;\n",
       "    }\n",
       "\n",
       "    .dataframe tbody tr th {\n",
       "        vertical-align: top;\n",
       "    }\n",
       "\n",
       "    .dataframe thead th {\n",
       "        text-align: right;\n",
       "    }\n",
       "</style>\n",
       "<table border=\"1\" class=\"dataframe\">\n",
       "  <thead>\n",
       "    <tr style=\"text-align: right;\">\n",
       "      <th></th>\n",
       "      <th>metadata_combined</th>\n",
       "    </tr>\n",
       "    <tr>\n",
       "      <th>episode_filename_prefix</th>\n",
       "      <th></th>\n",
       "    </tr>\n",
       "  </thead>\n",
       "  <tbody>\n",
       "    <tr>\n",
       "      <th>2qGUC8klqETUSpaqmjjzDZ</th>\n",
       "      <td>podcast name: Bringing the Human back to Human...</td>\n",
       "    </tr>\n",
       "    <tr>\n",
       "      <th>3yBUhLxrYeRr0C7VkdYeIQ</th>\n",
       "      <td>podcast name: Bringing the Human back to Human...</td>\n",
       "    </tr>\n",
       "  </tbody>\n",
       "</table>\n",
       "</div>\n",
       "      <button class=\"colab-df-convert\" onclick=\"convertToInteractive('df-36a99bec-0ed8-4165-bf50-75126ef6db80')\"\n",
       "              title=\"Convert this dataframe to an interactive table.\"\n",
       "              style=\"display:none;\">\n",
       "        \n",
       "  <svg xmlns=\"http://www.w3.org/2000/svg\" height=\"24px\"viewBox=\"0 0 24 24\"\n",
       "       width=\"24px\">\n",
       "    <path d=\"M0 0h24v24H0V0z\" fill=\"none\"/>\n",
       "    <path d=\"M18.56 5.44l.94 2.06.94-2.06 2.06-.94-2.06-.94-.94-2.06-.94 2.06-2.06.94zm-11 1L8.5 8.5l.94-2.06 2.06-.94-2.06-.94L8.5 2.5l-.94 2.06-2.06.94zm10 10l.94 2.06.94-2.06 2.06-.94-2.06-.94-.94-2.06-.94 2.06-2.06.94z\"/><path d=\"M17.41 7.96l-1.37-1.37c-.4-.4-.92-.59-1.43-.59-.52 0-1.04.2-1.43.59L10.3 9.45l-7.72 7.72c-.78.78-.78 2.05 0 2.83L4 21.41c.39.39.9.59 1.41.59.51 0 1.02-.2 1.41-.59l7.78-7.78 2.81-2.81c.8-.78.8-2.07 0-2.86zM5.41 20L4 18.59l7.72-7.72 1.47 1.35L5.41 20z\"/>\n",
       "  </svg>\n",
       "      </button>\n",
       "      \n",
       "  <style>\n",
       "    .colab-df-container {\n",
       "      display:flex;\n",
       "      flex-wrap:wrap;\n",
       "      gap: 12px;\n",
       "    }\n",
       "\n",
       "    .colab-df-convert {\n",
       "      background-color: #E8F0FE;\n",
       "      border: none;\n",
       "      border-radius: 50%;\n",
       "      cursor: pointer;\n",
       "      display: none;\n",
       "      fill: #1967D2;\n",
       "      height: 32px;\n",
       "      padding: 0 0 0 0;\n",
       "      width: 32px;\n",
       "    }\n",
       "\n",
       "    .colab-df-convert:hover {\n",
       "      background-color: #E2EBFA;\n",
       "      box-shadow: 0px 1px 2px rgba(60, 64, 67, 0.3), 0px 1px 3px 1px rgba(60, 64, 67, 0.15);\n",
       "      fill: #174EA6;\n",
       "    }\n",
       "\n",
       "    [theme=dark] .colab-df-convert {\n",
       "      background-color: #3B4455;\n",
       "      fill: #D2E3FC;\n",
       "    }\n",
       "\n",
       "    [theme=dark] .colab-df-convert:hover {\n",
       "      background-color: #434B5C;\n",
       "      box-shadow: 0px 1px 3px 1px rgba(0, 0, 0, 0.15);\n",
       "      filter: drop-shadow(0px 1px 2px rgba(0, 0, 0, 0.3));\n",
       "      fill: #FFFFFF;\n",
       "    }\n",
       "  </style>\n",
       "\n",
       "      <script>\n",
       "        const buttonEl =\n",
       "          document.querySelector('#df-36a99bec-0ed8-4165-bf50-75126ef6db80 button.colab-df-convert');\n",
       "        buttonEl.style.display =\n",
       "          google.colab.kernel.accessAllowed ? 'block' : 'none';\n",
       "\n",
       "        async function convertToInteractive(key) {\n",
       "          const element = document.querySelector('#df-36a99bec-0ed8-4165-bf50-75126ef6db80');\n",
       "          const dataTable =\n",
       "            await google.colab.kernel.invokeFunction('convertToInteractive',\n",
       "                                                     [key], {});\n",
       "          if (!dataTable) return;\n",
       "\n",
       "          const docLinkHtml = 'Like what you see? Visit the ' +\n",
       "            '<a target=\"_blank\" href=https://colab.research.google.com/notebooks/data_table.ipynb>data table notebook</a>'\n",
       "            + ' to learn more about interactive tables.';\n",
       "          element.innerHTML = '';\n",
       "          dataTable['output_type'] = 'display_data';\n",
       "          await google.colab.output.renderOutput(dataTable, element);\n",
       "          const docLink = document.createElement('div');\n",
       "          docLink.innerHTML = docLinkHtml;\n",
       "          element.appendChild(docLink);\n",
       "        }\n",
       "      </script>\n",
       "    </div>\n",
       "  </div>\n",
       "  "
      ],
      "text/plain": [
       "                                                         metadata_combined\n",
       "episode_filename_prefix                                                   \n",
       "2qGUC8klqETUSpaqmjjzDZ   podcast name: Bringing the Human back to Human...\n",
       "3yBUhLxrYeRr0C7VkdYeIQ   podcast name: Bringing the Human back to Human..."
      ]
     },
     "execution_count": 17,
     "metadata": {},
     "output_type": "execute_result"
    }
   ],
   "source": [
    "md_21.drop(columns='episode_uri', inplace=True)\n",
    "md.drop(columns='episode_uri', inplace=True)\n",
    "md_21.head(2)"
   ]
  },
  {
   "cell_type": "code",
   "execution_count": 18,
   "metadata": {
    "colab": {
     "base_uri": "https://localhost:8080/",
     "height": 143
    },
    "executionInfo": {
     "elapsed": 108,
     "status": "ok",
     "timestamp": 1685831631565,
     "user": {
      "displayName": "Olivia. Martin",
      "userId": "09948875238606947895"
     },
     "user_tz": 300
    },
    "id": "_HSmKFPg-hNe",
    "outputId": "bd86c20b-893b-467b-ba35-2ba45c8644bc"
   },
   "outputs": [
    {
     "data": {
      "text/html": [
       "\n",
       "  <div id=\"df-24a65181-2ef8-4763-b8ba-1485f6d2981b\">\n",
       "    <div class=\"colab-df-container\">\n",
       "      <div>\n",
       "<style scoped>\n",
       "    .dataframe tbody tr th:only-of-type {\n",
       "        vertical-align: middle;\n",
       "    }\n",
       "\n",
       "    .dataframe tbody tr th {\n",
       "        vertical-align: top;\n",
       "    }\n",
       "\n",
       "    .dataframe thead th {\n",
       "        text-align: right;\n",
       "    }\n",
       "</style>\n",
       "<table border=\"1\" class=\"dataframe\">\n",
       "  <thead>\n",
       "    <tr style=\"text-align: right;\">\n",
       "      <th></th>\n",
       "      <th>metadata_combined</th>\n",
       "      <th>transcript</th>\n",
       "    </tr>\n",
       "    <tr>\n",
       "      <th>episode_filename_prefix</th>\n",
       "      <th></th>\n",
       "      <th></th>\n",
       "    </tr>\n",
       "  </thead>\n",
       "  <tbody>\n",
       "    <tr>\n",
       "      <th>2qGUC8klqETUSpaqmjjzDZ</th>\n",
       "      <td>podcast name: Bringing the Human back to Human...</td>\n",
       "      <td>Welcome to the bringing the human Back To Huma...</td>\n",
       "    </tr>\n",
       "    <tr>\n",
       "      <th>3yBUhLxrYeRr0C7VkdYeIQ</th>\n",
       "      <td>podcast name: Bringing the Human back to Human...</td>\n",
       "      <td>Welcome to the bringing the human Back To Huma...</td>\n",
       "    </tr>\n",
       "  </tbody>\n",
       "</table>\n",
       "</div>\n",
       "      <button class=\"colab-df-convert\" onclick=\"convertToInteractive('df-24a65181-2ef8-4763-b8ba-1485f6d2981b')\"\n",
       "              title=\"Convert this dataframe to an interactive table.\"\n",
       "              style=\"display:none;\">\n",
       "        \n",
       "  <svg xmlns=\"http://www.w3.org/2000/svg\" height=\"24px\"viewBox=\"0 0 24 24\"\n",
       "       width=\"24px\">\n",
       "    <path d=\"M0 0h24v24H0V0z\" fill=\"none\"/>\n",
       "    <path d=\"M18.56 5.44l.94 2.06.94-2.06 2.06-.94-2.06-.94-.94-2.06-.94 2.06-2.06.94zm-11 1L8.5 8.5l.94-2.06 2.06-.94-2.06-.94L8.5 2.5l-.94 2.06-2.06.94zm10 10l.94 2.06.94-2.06 2.06-.94-2.06-.94-.94-2.06-.94 2.06-2.06.94z\"/><path d=\"M17.41 7.96l-1.37-1.37c-.4-.4-.92-.59-1.43-.59-.52 0-1.04.2-1.43.59L10.3 9.45l-7.72 7.72c-.78.78-.78 2.05 0 2.83L4 21.41c.39.39.9.59 1.41.59.51 0 1.02-.2 1.41-.59l7.78-7.78 2.81-2.81c.8-.78.8-2.07 0-2.86zM5.41 20L4 18.59l7.72-7.72 1.47 1.35L5.41 20z\"/>\n",
       "  </svg>\n",
       "      </button>\n",
       "      \n",
       "  <style>\n",
       "    .colab-df-container {\n",
       "      display:flex;\n",
       "      flex-wrap:wrap;\n",
       "      gap: 12px;\n",
       "    }\n",
       "\n",
       "    .colab-df-convert {\n",
       "      background-color: #E8F0FE;\n",
       "      border: none;\n",
       "      border-radius: 50%;\n",
       "      cursor: pointer;\n",
       "      display: none;\n",
       "      fill: #1967D2;\n",
       "      height: 32px;\n",
       "      padding: 0 0 0 0;\n",
       "      width: 32px;\n",
       "    }\n",
       "\n",
       "    .colab-df-convert:hover {\n",
       "      background-color: #E2EBFA;\n",
       "      box-shadow: 0px 1px 2px rgba(60, 64, 67, 0.3), 0px 1px 3px 1px rgba(60, 64, 67, 0.15);\n",
       "      fill: #174EA6;\n",
       "    }\n",
       "\n",
       "    [theme=dark] .colab-df-convert {\n",
       "      background-color: #3B4455;\n",
       "      fill: #D2E3FC;\n",
       "    }\n",
       "\n",
       "    [theme=dark] .colab-df-convert:hover {\n",
       "      background-color: #434B5C;\n",
       "      box-shadow: 0px 1px 3px 1px rgba(0, 0, 0, 0.15);\n",
       "      filter: drop-shadow(0px 1px 2px rgba(0, 0, 0, 0.3));\n",
       "      fill: #FFFFFF;\n",
       "    }\n",
       "  </style>\n",
       "\n",
       "      <script>\n",
       "        const buttonEl =\n",
       "          document.querySelector('#df-24a65181-2ef8-4763-b8ba-1485f6d2981b button.colab-df-convert');\n",
       "        buttonEl.style.display =\n",
       "          google.colab.kernel.accessAllowed ? 'block' : 'none';\n",
       "\n",
       "        async function convertToInteractive(key) {\n",
       "          const element = document.querySelector('#df-24a65181-2ef8-4763-b8ba-1485f6d2981b');\n",
       "          const dataTable =\n",
       "            await google.colab.kernel.invokeFunction('convertToInteractive',\n",
       "                                                     [key], {});\n",
       "          if (!dataTable) return;\n",
       "\n",
       "          const docLinkHtml = 'Like what you see? Visit the ' +\n",
       "            '<a target=\"_blank\" href=https://colab.research.google.com/notebooks/data_table.ipynb>data table notebook</a>'\n",
       "            + ' to learn more about interactive tables.';\n",
       "          element.innerHTML = '';\n",
       "          dataTable['output_type'] = 'display_data';\n",
       "          await google.colab.output.renderOutput(dataTable, element);\n",
       "          const docLink = document.createElement('div');\n",
       "          docLink.innerHTML = docLinkHtml;\n",
       "          element.appendChild(docLink);\n",
       "        }\n",
       "      </script>\n",
       "    </div>\n",
       "  </div>\n",
       "  "
      ],
      "text/plain": [
       "                                                         metadata_combined  \\\n",
       "episode_filename_prefix                                                      \n",
       "2qGUC8klqETUSpaqmjjzDZ   podcast name: Bringing the Human back to Human...   \n",
       "3yBUhLxrYeRr0C7VkdYeIQ   podcast name: Bringing the Human back to Human...   \n",
       "\n",
       "                                                                transcript  \n",
       "episode_filename_prefix                                                     \n",
       "2qGUC8klqETUSpaqmjjzDZ   Welcome to the bringing the human Back To Huma...  \n",
       "3yBUhLxrYeRr0C7VkdYeIQ   Welcome to the bringing the human Back To Huma...  "
      ]
     },
     "execution_count": 18,
     "metadata": {},
     "output_type": "execute_result"
    }
   ],
   "source": [
    "md_epi_tran = md_21.join(episode_transcrip_df, how='inner')\n",
    "uncombined = md.join(episode_transcrip_df, how='inner')\n",
    "md_epi_tran.head(2)"
   ]
  },
  {
   "cell_type": "code",
   "execution_count": 19,
   "metadata": {
    "executionInfo": {
     "elapsed": 84,
     "status": "ok",
     "timestamp": 1685831662944,
     "user": {
      "displayName": "Olivia. Martin",
      "userId": "09948875238606947895"
     },
     "user_tz": 300
    },
    "id": "gVzuRKOfYjf1"
   },
   "outputs": [],
   "source": [
    "md_epi_tran['complete_episode_info'] = md_epi_tran['metadata_combined'] + md_epi_tran['transcript']"
   ]
  },
  {
   "cell_type": "code",
   "execution_count": 20,
   "metadata": {
    "colab": {
     "base_uri": "https://localhost:8080/",
     "height": 346
    },
    "executionInfo": {
     "elapsed": 13,
     "status": "ok",
     "timestamp": 1685831686001,
     "user": {
      "displayName": "Olivia. Martin",
      "userId": "09948875238606947895"
     },
     "user_tz": 300
    },
    "id": "-Cln9KGkZczD",
    "outputId": "22b80a29-5694-4638-b51c-7a6f7c7323e7"
   },
   "outputs": [
    {
     "data": {
      "text/html": [
       "\n",
       "  <div id=\"df-84079403-5a8c-4df3-ad40-c51f17c0c499\">\n",
       "    <div class=\"colab-df-container\">\n",
       "      <div>\n",
       "<style scoped>\n",
       "    .dataframe tbody tr th:only-of-type {\n",
       "        vertical-align: middle;\n",
       "    }\n",
       "\n",
       "    .dataframe tbody tr th {\n",
       "        vertical-align: top;\n",
       "    }\n",
       "\n",
       "    .dataframe thead th {\n",
       "        text-align: right;\n",
       "    }\n",
       "</style>\n",
       "<table border=\"1\" class=\"dataframe\">\n",
       "  <thead>\n",
       "    <tr style=\"text-align: right;\">\n",
       "      <th></th>\n",
       "      <th>show_uri</th>\n",
       "      <th>show_name</th>\n",
       "      <th>show_description</th>\n",
       "      <th>publisher</th>\n",
       "      <th>language</th>\n",
       "      <th>rss_link</th>\n",
       "      <th>episode_name</th>\n",
       "      <th>episode_description</th>\n",
       "      <th>duration</th>\n",
       "      <th>metadata_combined</th>\n",
       "      <th>transcript</th>\n",
       "    </tr>\n",
       "    <tr>\n",
       "      <th>episode_filename_prefix</th>\n",
       "      <th></th>\n",
       "      <th></th>\n",
       "      <th></th>\n",
       "      <th></th>\n",
       "      <th></th>\n",
       "      <th></th>\n",
       "      <th></th>\n",
       "      <th></th>\n",
       "      <th></th>\n",
       "      <th></th>\n",
       "      <th></th>\n",
       "    </tr>\n",
       "  </thead>\n",
       "  <tbody>\n",
       "    <tr>\n",
       "      <th>2qGUC8klqETUSpaqmjjzDZ</th>\n",
       "      <td>spotify:show:63uxjpLRnQYcxpvHTMhExl</td>\n",
       "      <td>Bringing the Human back to Human Resources</td>\n",
       "      <td>People are at the center of every business--or...</td>\n",
       "      <td>Traci Rubin</td>\n",
       "      <td>en-US</td>\n",
       "      <td>https://anchor.fm/s/52984854/podcast/rss</td>\n",
       "      <td>De-stigmatizing HR</td>\n",
       "      <td>On this episode of \"Bringing the Human back to...</td>\n",
       "      <td>1884395</td>\n",
       "      <td>podcast name: Bringing the Human back to Human...</td>\n",
       "      <td>Welcome to the bringing the human Back To Huma...</td>\n",
       "    </tr>\n",
       "    <tr>\n",
       "      <th>3yBUhLxrYeRr0C7VkdYeIQ</th>\n",
       "      <td>spotify:show:63uxjpLRnQYcxpvHTMhExl</td>\n",
       "      <td>Bringing the Human back to Human Resources</td>\n",
       "      <td>People are at the center of every business--or...</td>\n",
       "      <td>Traci Rubin</td>\n",
       "      <td>en-US</td>\n",
       "      <td>https://anchor.fm/s/52984854/podcast/rss</td>\n",
       "      <td>The Emotional Impact of Layoffs</td>\n",
       "      <td>In this week's episode, Traci talks about the ...</td>\n",
       "      <td>1682286</td>\n",
       "      <td>podcast name: Bringing the Human back to Human...</td>\n",
       "      <td>Welcome to the bringing the human Back To Huma...</td>\n",
       "    </tr>\n",
       "  </tbody>\n",
       "</table>\n",
       "</div>\n",
       "      <button class=\"colab-df-convert\" onclick=\"convertToInteractive('df-84079403-5a8c-4df3-ad40-c51f17c0c499')\"\n",
       "              title=\"Convert this dataframe to an interactive table.\"\n",
       "              style=\"display:none;\">\n",
       "        \n",
       "  <svg xmlns=\"http://www.w3.org/2000/svg\" height=\"24px\"viewBox=\"0 0 24 24\"\n",
       "       width=\"24px\">\n",
       "    <path d=\"M0 0h24v24H0V0z\" fill=\"none\"/>\n",
       "    <path d=\"M18.56 5.44l.94 2.06.94-2.06 2.06-.94-2.06-.94-.94-2.06-.94 2.06-2.06.94zm-11 1L8.5 8.5l.94-2.06 2.06-.94-2.06-.94L8.5 2.5l-.94 2.06-2.06.94zm10 10l.94 2.06.94-2.06 2.06-.94-2.06-.94-.94-2.06-.94 2.06-2.06.94z\"/><path d=\"M17.41 7.96l-1.37-1.37c-.4-.4-.92-.59-1.43-.59-.52 0-1.04.2-1.43.59L10.3 9.45l-7.72 7.72c-.78.78-.78 2.05 0 2.83L4 21.41c.39.39.9.59 1.41.59.51 0 1.02-.2 1.41-.59l7.78-7.78 2.81-2.81c.8-.78.8-2.07 0-2.86zM5.41 20L4 18.59l7.72-7.72 1.47 1.35L5.41 20z\"/>\n",
       "  </svg>\n",
       "      </button>\n",
       "      \n",
       "  <style>\n",
       "    .colab-df-container {\n",
       "      display:flex;\n",
       "      flex-wrap:wrap;\n",
       "      gap: 12px;\n",
       "    }\n",
       "\n",
       "    .colab-df-convert {\n",
       "      background-color: #E8F0FE;\n",
       "      border: none;\n",
       "      border-radius: 50%;\n",
       "      cursor: pointer;\n",
       "      display: none;\n",
       "      fill: #1967D2;\n",
       "      height: 32px;\n",
       "      padding: 0 0 0 0;\n",
       "      width: 32px;\n",
       "    }\n",
       "\n",
       "    .colab-df-convert:hover {\n",
       "      background-color: #E2EBFA;\n",
       "      box-shadow: 0px 1px 2px rgba(60, 64, 67, 0.3), 0px 1px 3px 1px rgba(60, 64, 67, 0.15);\n",
       "      fill: #174EA6;\n",
       "    }\n",
       "\n",
       "    [theme=dark] .colab-df-convert {\n",
       "      background-color: #3B4455;\n",
       "      fill: #D2E3FC;\n",
       "    }\n",
       "\n",
       "    [theme=dark] .colab-df-convert:hover {\n",
       "      background-color: #434B5C;\n",
       "      box-shadow: 0px 1px 3px 1px rgba(0, 0, 0, 0.15);\n",
       "      filter: drop-shadow(0px 1px 2px rgba(0, 0, 0, 0.3));\n",
       "      fill: #FFFFFF;\n",
       "    }\n",
       "  </style>\n",
       "\n",
       "      <script>\n",
       "        const buttonEl =\n",
       "          document.querySelector('#df-84079403-5a8c-4df3-ad40-c51f17c0c499 button.colab-df-convert');\n",
       "        buttonEl.style.display =\n",
       "          google.colab.kernel.accessAllowed ? 'block' : 'none';\n",
       "\n",
       "        async function convertToInteractive(key) {\n",
       "          const element = document.querySelector('#df-84079403-5a8c-4df3-ad40-c51f17c0c499');\n",
       "          const dataTable =\n",
       "            await google.colab.kernel.invokeFunction('convertToInteractive',\n",
       "                                                     [key], {});\n",
       "          if (!dataTable) return;\n",
       "\n",
       "          const docLinkHtml = 'Like what you see? Visit the ' +\n",
       "            '<a target=\"_blank\" href=https://colab.research.google.com/notebooks/data_table.ipynb>data table notebook</a>'\n",
       "            + ' to learn more about interactive tables.';\n",
       "          element.innerHTML = '';\n",
       "          dataTable['output_type'] = 'display_data';\n",
       "          await google.colab.output.renderOutput(dataTable, element);\n",
       "          const docLink = document.createElement('div');\n",
       "          docLink.innerHTML = docLinkHtml;\n",
       "          element.appendChild(docLink);\n",
       "        }\n",
       "      </script>\n",
       "    </div>\n",
       "  </div>\n",
       "  "
      ],
      "text/plain": [
       "                                                    show_uri  \\\n",
       "episode_filename_prefix                                        \n",
       "2qGUC8klqETUSpaqmjjzDZ   spotify:show:63uxjpLRnQYcxpvHTMhExl   \n",
       "3yBUhLxrYeRr0C7VkdYeIQ   spotify:show:63uxjpLRnQYcxpvHTMhExl   \n",
       "\n",
       "                                                          show_name  \\\n",
       "episode_filename_prefix                                               \n",
       "2qGUC8klqETUSpaqmjjzDZ   Bringing the Human back to Human Resources   \n",
       "3yBUhLxrYeRr0C7VkdYeIQ   Bringing the Human back to Human Resources   \n",
       "\n",
       "                                                          show_description  \\\n",
       "episode_filename_prefix                                                      \n",
       "2qGUC8klqETUSpaqmjjzDZ   People are at the center of every business--or...   \n",
       "3yBUhLxrYeRr0C7VkdYeIQ   People are at the center of every business--or...   \n",
       "\n",
       "                           publisher language  \\\n",
       "episode_filename_prefix                         \n",
       "2qGUC8klqETUSpaqmjjzDZ   Traci Rubin    en-US   \n",
       "3yBUhLxrYeRr0C7VkdYeIQ   Traci Rubin    en-US   \n",
       "\n",
       "                                                         rss_link  \\\n",
       "episode_filename_prefix                                             \n",
       "2qGUC8klqETUSpaqmjjzDZ   https://anchor.fm/s/52984854/podcast/rss   \n",
       "3yBUhLxrYeRr0C7VkdYeIQ   https://anchor.fm/s/52984854/podcast/rss   \n",
       "\n",
       "                                            episode_name  \\\n",
       "episode_filename_prefix                                    \n",
       "2qGUC8klqETUSpaqmjjzDZ                De-stigmatizing HR   \n",
       "3yBUhLxrYeRr0C7VkdYeIQ   The Emotional Impact of Layoffs   \n",
       "\n",
       "                                                       episode_description  \\\n",
       "episode_filename_prefix                                                      \n",
       "2qGUC8klqETUSpaqmjjzDZ   On this episode of \"Bringing the Human back to...   \n",
       "3yBUhLxrYeRr0C7VkdYeIQ   In this week's episode, Traci talks about the ...   \n",
       "\n",
       "                         duration  \\\n",
       "episode_filename_prefix             \n",
       "2qGUC8klqETUSpaqmjjzDZ    1884395   \n",
       "3yBUhLxrYeRr0C7VkdYeIQ    1682286   \n",
       "\n",
       "                                                         metadata_combined  \\\n",
       "episode_filename_prefix                                                      \n",
       "2qGUC8klqETUSpaqmjjzDZ   podcast name: Bringing the Human back to Human...   \n",
       "3yBUhLxrYeRr0C7VkdYeIQ   podcast name: Bringing the Human back to Human...   \n",
       "\n",
       "                                                                transcript  \n",
       "episode_filename_prefix                                                     \n",
       "2qGUC8klqETUSpaqmjjzDZ   Welcome to the bringing the human Back To Huma...  \n",
       "3yBUhLxrYeRr0C7VkdYeIQ   Welcome to the bringing the human Back To Huma...  "
      ]
     },
     "execution_count": 20,
     "metadata": {},
     "output_type": "execute_result"
    }
   ],
   "source": [
    "uncombined.head(2)"
   ]
  },
  {
   "cell_type": "code",
   "execution_count": 21,
   "metadata": {
    "colab": {
     "base_uri": "https://localhost:8080/",
     "height": 222
    },
    "executionInfo": {
     "elapsed": 107,
     "status": "ok",
     "timestamp": 1685831693908,
     "user": {
      "displayName": "Olivia. Martin",
      "userId": "09948875238606947895"
     },
     "user_tz": 300
    },
    "id": "A0w-WAcBAHXL",
    "outputId": "90684df2-19fb-4a99-85dc-442b4cfaa9ad"
   },
   "outputs": [
    {
     "data": {
      "text/html": [
       "\n",
       "  <div id=\"df-f1739fc3-5dec-47bb-aae5-0d308abffb76\">\n",
       "    <div class=\"colab-df-container\">\n",
       "      <div>\n",
       "<style scoped>\n",
       "    .dataframe tbody tr th:only-of-type {\n",
       "        vertical-align: middle;\n",
       "    }\n",
       "\n",
       "    .dataframe tbody tr th {\n",
       "        vertical-align: top;\n",
       "    }\n",
       "\n",
       "    .dataframe thead th {\n",
       "        text-align: right;\n",
       "    }\n",
       "</style>\n",
       "<table border=\"1\" class=\"dataframe\">\n",
       "  <thead>\n",
       "    <tr style=\"text-align: right;\">\n",
       "      <th></th>\n",
       "      <th>metadata_combined</th>\n",
       "      <th>transcript</th>\n",
       "      <th>complete_episode_info</th>\n",
       "    </tr>\n",
       "    <tr>\n",
       "      <th>episode_filename_prefix</th>\n",
       "      <th></th>\n",
       "      <th></th>\n",
       "      <th></th>\n",
       "    </tr>\n",
       "  </thead>\n",
       "  <tbody>\n",
       "    <tr>\n",
       "      <th>2qGUC8klqETUSpaqmjjzDZ</th>\n",
       "      <td>podcast name: Bringing the Human back to Human...</td>\n",
       "      <td>Welcome to the bringing the human Back To Huma...</td>\n",
       "      <td>podcast name: Bringing the Human back to Human...</td>\n",
       "    </tr>\n",
       "    <tr>\n",
       "      <th>3yBUhLxrYeRr0C7VkdYeIQ</th>\n",
       "      <td>podcast name: Bringing the Human back to Human...</td>\n",
       "      <td>Welcome to the bringing the human Back To Huma...</td>\n",
       "      <td>podcast name: Bringing the Human back to Human...</td>\n",
       "    </tr>\n",
       "  </tbody>\n",
       "</table>\n",
       "</div>\n",
       "      <button class=\"colab-df-convert\" onclick=\"convertToInteractive('df-f1739fc3-5dec-47bb-aae5-0d308abffb76')\"\n",
       "              title=\"Convert this dataframe to an interactive table.\"\n",
       "              style=\"display:none;\">\n",
       "        \n",
       "  <svg xmlns=\"http://www.w3.org/2000/svg\" height=\"24px\"viewBox=\"0 0 24 24\"\n",
       "       width=\"24px\">\n",
       "    <path d=\"M0 0h24v24H0V0z\" fill=\"none\"/>\n",
       "    <path d=\"M18.56 5.44l.94 2.06.94-2.06 2.06-.94-2.06-.94-.94-2.06-.94 2.06-2.06.94zm-11 1L8.5 8.5l.94-2.06 2.06-.94-2.06-.94L8.5 2.5l-.94 2.06-2.06.94zm10 10l.94 2.06.94-2.06 2.06-.94-2.06-.94-.94-2.06-.94 2.06-2.06.94z\"/><path d=\"M17.41 7.96l-1.37-1.37c-.4-.4-.92-.59-1.43-.59-.52 0-1.04.2-1.43.59L10.3 9.45l-7.72 7.72c-.78.78-.78 2.05 0 2.83L4 21.41c.39.39.9.59 1.41.59.51 0 1.02-.2 1.41-.59l7.78-7.78 2.81-2.81c.8-.78.8-2.07 0-2.86zM5.41 20L4 18.59l7.72-7.72 1.47 1.35L5.41 20z\"/>\n",
       "  </svg>\n",
       "      </button>\n",
       "      \n",
       "  <style>\n",
       "    .colab-df-container {\n",
       "      display:flex;\n",
       "      flex-wrap:wrap;\n",
       "      gap: 12px;\n",
       "    }\n",
       "\n",
       "    .colab-df-convert {\n",
       "      background-color: #E8F0FE;\n",
       "      border: none;\n",
       "      border-radius: 50%;\n",
       "      cursor: pointer;\n",
       "      display: none;\n",
       "      fill: #1967D2;\n",
       "      height: 32px;\n",
       "      padding: 0 0 0 0;\n",
       "      width: 32px;\n",
       "    }\n",
       "\n",
       "    .colab-df-convert:hover {\n",
       "      background-color: #E2EBFA;\n",
       "      box-shadow: 0px 1px 2px rgba(60, 64, 67, 0.3), 0px 1px 3px 1px rgba(60, 64, 67, 0.15);\n",
       "      fill: #174EA6;\n",
       "    }\n",
       "\n",
       "    [theme=dark] .colab-df-convert {\n",
       "      background-color: #3B4455;\n",
       "      fill: #D2E3FC;\n",
       "    }\n",
       "\n",
       "    [theme=dark] .colab-df-convert:hover {\n",
       "      background-color: #434B5C;\n",
       "      box-shadow: 0px 1px 3px 1px rgba(0, 0, 0, 0.15);\n",
       "      filter: drop-shadow(0px 1px 2px rgba(0, 0, 0, 0.3));\n",
       "      fill: #FFFFFF;\n",
       "    }\n",
       "  </style>\n",
       "\n",
       "      <script>\n",
       "        const buttonEl =\n",
       "          document.querySelector('#df-f1739fc3-5dec-47bb-aae5-0d308abffb76 button.colab-df-convert');\n",
       "        buttonEl.style.display =\n",
       "          google.colab.kernel.accessAllowed ? 'block' : 'none';\n",
       "\n",
       "        async function convertToInteractive(key) {\n",
       "          const element = document.querySelector('#df-f1739fc3-5dec-47bb-aae5-0d308abffb76');\n",
       "          const dataTable =\n",
       "            await google.colab.kernel.invokeFunction('convertToInteractive',\n",
       "                                                     [key], {});\n",
       "          if (!dataTable) return;\n",
       "\n",
       "          const docLinkHtml = 'Like what you see? Visit the ' +\n",
       "            '<a target=\"_blank\" href=https://colab.research.google.com/notebooks/data_table.ipynb>data table notebook</a>'\n",
       "            + ' to learn more about interactive tables.';\n",
       "          element.innerHTML = '';\n",
       "          dataTable['output_type'] = 'display_data';\n",
       "          await google.colab.output.renderOutput(dataTable, element);\n",
       "          const docLink = document.createElement('div');\n",
       "          docLink.innerHTML = docLinkHtml;\n",
       "          element.appendChild(docLink);\n",
       "        }\n",
       "      </script>\n",
       "    </div>\n",
       "  </div>\n",
       "  "
      ],
      "text/plain": [
       "                                                         metadata_combined  \\\n",
       "episode_filename_prefix                                                      \n",
       "2qGUC8klqETUSpaqmjjzDZ   podcast name: Bringing the Human back to Human...   \n",
       "3yBUhLxrYeRr0C7VkdYeIQ   podcast name: Bringing the Human back to Human...   \n",
       "\n",
       "                                                                transcript  \\\n",
       "episode_filename_prefix                                                      \n",
       "2qGUC8klqETUSpaqmjjzDZ   Welcome to the bringing the human Back To Huma...   \n",
       "3yBUhLxrYeRr0C7VkdYeIQ   Welcome to the bringing the human Back To Huma...   \n",
       "\n",
       "                                                     complete_episode_info  \n",
       "episode_filename_prefix                                                     \n",
       "2qGUC8klqETUSpaqmjjzDZ   podcast name: Bringing the Human back to Human...  \n",
       "3yBUhLxrYeRr0C7VkdYeIQ   podcast name: Bringing the Human back to Human...  "
      ]
     },
     "execution_count": 21,
     "metadata": {},
     "output_type": "execute_result"
    }
   ],
   "source": [
    "md_epi_tran.head(2)"
   ]
  },
  {
   "cell_type": "code",
   "execution_count": 22,
   "metadata": {
    "colab": {
     "base_uri": "https://localhost:8080/",
     "height": 112
    },
    "executionInfo": {
     "elapsed": 100,
     "status": "ok",
     "timestamp": 1685831707613,
     "user": {
      "displayName": "Olivia. Martin",
      "userId": "09948875238606947895"
     },
     "user_tz": 300
    },
    "id": "laa154Y0XcNJ",
    "outputId": "13427f68-744b-4e37-d080-640f73ecaf49"
   },
   "outputs": [
    {
     "data": {
      "text/html": [
       "\n",
       "  <div id=\"df-495857fd-0fad-4e8d-b762-4794afe5da08\">\n",
       "    <div class=\"colab-df-container\">\n",
       "      <div>\n",
       "<style scoped>\n",
       "    .dataframe tbody tr th:only-of-type {\n",
       "        vertical-align: middle;\n",
       "    }\n",
       "\n",
       "    .dataframe tbody tr th {\n",
       "        vertical-align: top;\n",
       "    }\n",
       "\n",
       "    .dataframe thead th {\n",
       "        text-align: right;\n",
       "    }\n",
       "</style>\n",
       "<table border=\"1\" class=\"dataframe\">\n",
       "  <thead>\n",
       "    <tr style=\"text-align: right;\">\n",
       "      <th></th>\n",
       "      <th>complete_episode_info</th>\n",
       "    </tr>\n",
       "  </thead>\n",
       "  <tbody>\n",
       "    <tr>\n",
       "      <th>0</th>\n",
       "      <td>podcast name: Bringing the Human back to Human...</td>\n",
       "    </tr>\n",
       "    <tr>\n",
       "      <th>1</th>\n",
       "      <td>podcast name: Bringing the Human back to Human...</td>\n",
       "    </tr>\n",
       "  </tbody>\n",
       "</table>\n",
       "</div>\n",
       "      <button class=\"colab-df-convert\" onclick=\"convertToInteractive('df-495857fd-0fad-4e8d-b762-4794afe5da08')\"\n",
       "              title=\"Convert this dataframe to an interactive table.\"\n",
       "              style=\"display:none;\">\n",
       "        \n",
       "  <svg xmlns=\"http://www.w3.org/2000/svg\" height=\"24px\"viewBox=\"0 0 24 24\"\n",
       "       width=\"24px\">\n",
       "    <path d=\"M0 0h24v24H0V0z\" fill=\"none\"/>\n",
       "    <path d=\"M18.56 5.44l.94 2.06.94-2.06 2.06-.94-2.06-.94-.94-2.06-.94 2.06-2.06.94zm-11 1L8.5 8.5l.94-2.06 2.06-.94-2.06-.94L8.5 2.5l-.94 2.06-2.06.94zm10 10l.94 2.06.94-2.06 2.06-.94-2.06-.94-.94-2.06-.94 2.06-2.06.94z\"/><path d=\"M17.41 7.96l-1.37-1.37c-.4-.4-.92-.59-1.43-.59-.52 0-1.04.2-1.43.59L10.3 9.45l-7.72 7.72c-.78.78-.78 2.05 0 2.83L4 21.41c.39.39.9.59 1.41.59.51 0 1.02-.2 1.41-.59l7.78-7.78 2.81-2.81c.8-.78.8-2.07 0-2.86zM5.41 20L4 18.59l7.72-7.72 1.47 1.35L5.41 20z\"/>\n",
       "  </svg>\n",
       "      </button>\n",
       "      \n",
       "  <style>\n",
       "    .colab-df-container {\n",
       "      display:flex;\n",
       "      flex-wrap:wrap;\n",
       "      gap: 12px;\n",
       "    }\n",
       "\n",
       "    .colab-df-convert {\n",
       "      background-color: #E8F0FE;\n",
       "      border: none;\n",
       "      border-radius: 50%;\n",
       "      cursor: pointer;\n",
       "      display: none;\n",
       "      fill: #1967D2;\n",
       "      height: 32px;\n",
       "      padding: 0 0 0 0;\n",
       "      width: 32px;\n",
       "    }\n",
       "\n",
       "    .colab-df-convert:hover {\n",
       "      background-color: #E2EBFA;\n",
       "      box-shadow: 0px 1px 2px rgba(60, 64, 67, 0.3), 0px 1px 3px 1px rgba(60, 64, 67, 0.15);\n",
       "      fill: #174EA6;\n",
       "    }\n",
       "\n",
       "    [theme=dark] .colab-df-convert {\n",
       "      background-color: #3B4455;\n",
       "      fill: #D2E3FC;\n",
       "    }\n",
       "\n",
       "    [theme=dark] .colab-df-convert:hover {\n",
       "      background-color: #434B5C;\n",
       "      box-shadow: 0px 1px 3px 1px rgba(0, 0, 0, 0.15);\n",
       "      filter: drop-shadow(0px 1px 2px rgba(0, 0, 0, 0.3));\n",
       "      fill: #FFFFFF;\n",
       "    }\n",
       "  </style>\n",
       "\n",
       "      <script>\n",
       "        const buttonEl =\n",
       "          document.querySelector('#df-495857fd-0fad-4e8d-b762-4794afe5da08 button.colab-df-convert');\n",
       "        buttonEl.style.display =\n",
       "          google.colab.kernel.accessAllowed ? 'block' : 'none';\n",
       "\n",
       "        async function convertToInteractive(key) {\n",
       "          const element = document.querySelector('#df-495857fd-0fad-4e8d-b762-4794afe5da08');\n",
       "          const dataTable =\n",
       "            await google.colab.kernel.invokeFunction('convertToInteractive',\n",
       "                                                     [key], {});\n",
       "          if (!dataTable) return;\n",
       "\n",
       "          const docLinkHtml = 'Like what you see? Visit the ' +\n",
       "            '<a target=\"_blank\" href=https://colab.research.google.com/notebooks/data_table.ipynb>data table notebook</a>'\n",
       "            + ' to learn more about interactive tables.';\n",
       "          element.innerHTML = '';\n",
       "          dataTable['output_type'] = 'display_data';\n",
       "          await google.colab.output.renderOutput(dataTable, element);\n",
       "          const docLink = document.createElement('div');\n",
       "          docLink.innerHTML = docLinkHtml;\n",
       "          element.appendChild(docLink);\n",
       "        }\n",
       "      </script>\n",
       "    </div>\n",
       "  </div>\n",
       "  "
      ],
      "text/plain": [
       "                               complete_episode_info\n",
       "0  podcast name: Bringing the Human back to Human...\n",
       "1  podcast name: Bringing the Human back to Human..."
      ]
     },
     "execution_count": 22,
     "metadata": {},
     "output_type": "execute_result"
    }
   ],
   "source": [
    "md_epi_tran.reset_index(inplace=True)\n",
    "md_epi_tran.drop(columns=['metadata_combined', 'transcript', 'episode_filename_prefix'], inplace=True)\n",
    "md_epi_tran.head(2)"
   ]
  },
  {
   "cell_type": "code",
   "execution_count": null,
   "metadata": {
    "id": "rNZX-3PWAmM7"
   },
   "outputs": [],
   "source": [
    "# md_epi_tran.to_csv('/content/gdrive/MyDrive/DataScience/Masters/453_Final_Project/md_transcript_together.csv')"
   ]
  },
  {
   "cell_type": "code",
   "execution_count": 23,
   "metadata": {
    "colab": {
     "base_uri": "https://localhost:8080/",
     "height": 676
    },
    "executionInfo": {
     "elapsed": 119,
     "status": "ok",
     "timestamp": 1685831740855,
     "user": {
      "displayName": "Olivia. Martin",
      "userId": "09948875238606947895"
     },
     "user_tz": 300
    },
    "id": "CBN0PAVrvNwG",
    "outputId": "e072675a-88f5-4c69-e277-ec3ac5d32b6b"
   },
   "outputs": [
    {
     "data": {
      "text/html": [
       "\n",
       "  <div id=\"df-169d89c2-4545-4df6-9415-2ff86568e116\">\n",
       "    <div class=\"colab-df-container\">\n",
       "      <div>\n",
       "<style scoped>\n",
       "    .dataframe tbody tr th:only-of-type {\n",
       "        vertical-align: middle;\n",
       "    }\n",
       "\n",
       "    .dataframe tbody tr th {\n",
       "        vertical-align: top;\n",
       "    }\n",
       "\n",
       "    .dataframe thead th {\n",
       "        text-align: right;\n",
       "    }\n",
       "</style>\n",
       "<table border=\"1\" class=\"dataframe\">\n",
       "  <thead>\n",
       "    <tr style=\"text-align: right;\">\n",
       "      <th></th>\n",
       "      <th>complete_episode_info</th>\n",
       "    </tr>\n",
       "  </thead>\n",
       "  <tbody>\n",
       "    <tr>\n",
       "      <th>0</th>\n",
       "      <td>podcast name: Bringing the Human back to Human...</td>\n",
       "    </tr>\n",
       "    <tr>\n",
       "      <th>1</th>\n",
       "      <td>podcast name: Bringing the Human back to Human...</td>\n",
       "    </tr>\n",
       "    <tr>\n",
       "      <th>2</th>\n",
       "      <td>podcast name: Bringing the Human back to Human...</td>\n",
       "    </tr>\n",
       "    <tr>\n",
       "      <th>3</th>\n",
       "      <td>podcast name: Bold Alpha podcast description: ...</td>\n",
       "    </tr>\n",
       "    <tr>\n",
       "      <th>4</th>\n",
       "      <td>podcast name: The Powerline Podcast with Micha...</td>\n",
       "    </tr>\n",
       "    <tr>\n",
       "      <th>5</th>\n",
       "      <td>podcast name: The Pedestal  podcast descriptio...</td>\n",
       "    </tr>\n",
       "    <tr>\n",
       "      <th>6</th>\n",
       "      <td>podcast name: Indelicates podcast description:...</td>\n",
       "    </tr>\n",
       "    <tr>\n",
       "      <th>7</th>\n",
       "      <td>podcast name: BOOTHCAST podcast description: I...</td>\n",
       "    </tr>\n",
       "    <tr>\n",
       "      <th>8</th>\n",
       "      <td>podcast name: The Diverse Mentality Podcast po...</td>\n",
       "    </tr>\n",
       "    <tr>\n",
       "      <th>9</th>\n",
       "      <td>podcast name:  Friends For The Future podcast ...</td>\n",
       "    </tr>\n",
       "    <tr>\n",
       "      <th>10</th>\n",
       "      <td>podcast name: Kerry Understanding podcast desc...</td>\n",
       "    </tr>\n",
       "    <tr>\n",
       "      <th>11</th>\n",
       "      <td>podcast name: Bring the Juice podcast descript...</td>\n",
       "    </tr>\n",
       "    <tr>\n",
       "      <th>12</th>\n",
       "      <td>podcast name: The Earful Runner  podcast descr...</td>\n",
       "    </tr>\n",
       "    <tr>\n",
       "      <th>13</th>\n",
       "      <td>podcast name: JayWalkin podcast description: W...</td>\n",
       "    </tr>\n",
       "    <tr>\n",
       "      <th>14</th>\n",
       "      <td>podcast name: The Geek Buddies  podcast descri...</td>\n",
       "    </tr>\n",
       "    <tr>\n",
       "      <th>15</th>\n",
       "      <td>podcast name: Writers, Ink podcast description...</td>\n",
       "    </tr>\n",
       "    <tr>\n",
       "      <th>16</th>\n",
       "      <td>podcast name: John &amp; Tony, Tony &amp; John podcast...</td>\n",
       "    </tr>\n",
       "    <tr>\n",
       "      <th>17</th>\n",
       "      <td>podcast name: The NASS Podcast podcast descrip...</td>\n",
       "    </tr>\n",
       "    <tr>\n",
       "      <th>18</th>\n",
       "      <td>podcast name: Behind The Bum podcast descripti...</td>\n",
       "    </tr>\n",
       "    <tr>\n",
       "      <th>19</th>\n",
       "      <td>podcast name: In All Kinds Of Weather Forecast...</td>\n",
       "    </tr>\n",
       "  </tbody>\n",
       "</table>\n",
       "</div>\n",
       "      <button class=\"colab-df-convert\" onclick=\"convertToInteractive('df-169d89c2-4545-4df6-9415-2ff86568e116')\"\n",
       "              title=\"Convert this dataframe to an interactive table.\"\n",
       "              style=\"display:none;\">\n",
       "        \n",
       "  <svg xmlns=\"http://www.w3.org/2000/svg\" height=\"24px\"viewBox=\"0 0 24 24\"\n",
       "       width=\"24px\">\n",
       "    <path d=\"M0 0h24v24H0V0z\" fill=\"none\"/>\n",
       "    <path d=\"M18.56 5.44l.94 2.06.94-2.06 2.06-.94-2.06-.94-.94-2.06-.94 2.06-2.06.94zm-11 1L8.5 8.5l.94-2.06 2.06-.94-2.06-.94L8.5 2.5l-.94 2.06-2.06.94zm10 10l.94 2.06.94-2.06 2.06-.94-2.06-.94-.94-2.06-.94 2.06-2.06.94z\"/><path d=\"M17.41 7.96l-1.37-1.37c-.4-.4-.92-.59-1.43-.59-.52 0-1.04.2-1.43.59L10.3 9.45l-7.72 7.72c-.78.78-.78 2.05 0 2.83L4 21.41c.39.39.9.59 1.41.59.51 0 1.02-.2 1.41-.59l7.78-7.78 2.81-2.81c.8-.78.8-2.07 0-2.86zM5.41 20L4 18.59l7.72-7.72 1.47 1.35L5.41 20z\"/>\n",
       "  </svg>\n",
       "      </button>\n",
       "      \n",
       "  <style>\n",
       "    .colab-df-container {\n",
       "      display:flex;\n",
       "      flex-wrap:wrap;\n",
       "      gap: 12px;\n",
       "    }\n",
       "\n",
       "    .colab-df-convert {\n",
       "      background-color: #E8F0FE;\n",
       "      border: none;\n",
       "      border-radius: 50%;\n",
       "      cursor: pointer;\n",
       "      display: none;\n",
       "      fill: #1967D2;\n",
       "      height: 32px;\n",
       "      padding: 0 0 0 0;\n",
       "      width: 32px;\n",
       "    }\n",
       "\n",
       "    .colab-df-convert:hover {\n",
       "      background-color: #E2EBFA;\n",
       "      box-shadow: 0px 1px 2px rgba(60, 64, 67, 0.3), 0px 1px 3px 1px rgba(60, 64, 67, 0.15);\n",
       "      fill: #174EA6;\n",
       "    }\n",
       "\n",
       "    [theme=dark] .colab-df-convert {\n",
       "      background-color: #3B4455;\n",
       "      fill: #D2E3FC;\n",
       "    }\n",
       "\n",
       "    [theme=dark] .colab-df-convert:hover {\n",
       "      background-color: #434B5C;\n",
       "      box-shadow: 0px 1px 3px 1px rgba(0, 0, 0, 0.15);\n",
       "      filter: drop-shadow(0px 1px 2px rgba(0, 0, 0, 0.3));\n",
       "      fill: #FFFFFF;\n",
       "    }\n",
       "  </style>\n",
       "\n",
       "      <script>\n",
       "        const buttonEl =\n",
       "          document.querySelector('#df-169d89c2-4545-4df6-9415-2ff86568e116 button.colab-df-convert');\n",
       "        buttonEl.style.display =\n",
       "          google.colab.kernel.accessAllowed ? 'block' : 'none';\n",
       "\n",
       "        async function convertToInteractive(key) {\n",
       "          const element = document.querySelector('#df-169d89c2-4545-4df6-9415-2ff86568e116');\n",
       "          const dataTable =\n",
       "            await google.colab.kernel.invokeFunction('convertToInteractive',\n",
       "                                                     [key], {});\n",
       "          if (!dataTable) return;\n",
       "\n",
       "          const docLinkHtml = 'Like what you see? Visit the ' +\n",
       "            '<a target=\"_blank\" href=https://colab.research.google.com/notebooks/data_table.ipynb>data table notebook</a>'\n",
       "            + ' to learn more about interactive tables.';\n",
       "          element.innerHTML = '';\n",
       "          dataTable['output_type'] = 'display_data';\n",
       "          await google.colab.output.renderOutput(dataTable, element);\n",
       "          const docLink = document.createElement('div');\n",
       "          docLink.innerHTML = docLinkHtml;\n",
       "          element.appendChild(docLink);\n",
       "        }\n",
       "      </script>\n",
       "    </div>\n",
       "  </div>\n",
       "  "
      ],
      "text/plain": [
       "                                complete_episode_info\n",
       "0   podcast name: Bringing the Human back to Human...\n",
       "1   podcast name: Bringing the Human back to Human...\n",
       "2   podcast name: Bringing the Human back to Human...\n",
       "3   podcast name: Bold Alpha podcast description: ...\n",
       "4   podcast name: The Powerline Podcast with Micha...\n",
       "5   podcast name: The Pedestal  podcast descriptio...\n",
       "6   podcast name: Indelicates podcast description:...\n",
       "7   podcast name: BOOTHCAST podcast description: I...\n",
       "8   podcast name: The Diverse Mentality Podcast po...\n",
       "9   podcast name:  Friends For The Future podcast ...\n",
       "10  podcast name: Kerry Understanding podcast desc...\n",
       "11  podcast name: Bring the Juice podcast descript...\n",
       "12  podcast name: The Earful Runner  podcast descr...\n",
       "13  podcast name: JayWalkin podcast description: W...\n",
       "14  podcast name: The Geek Buddies  podcast descri...\n",
       "15  podcast name: Writers, Ink podcast description...\n",
       "16  podcast name: John & Tony, Tony & John podcast...\n",
       "17  podcast name: The NASS Podcast podcast descrip...\n",
       "18  podcast name: Behind The Bum podcast descripti...\n",
       "19  podcast name: In All Kinds Of Weather Forecast..."
      ]
     },
     "execution_count": 23,
     "metadata": {},
     "output_type": "execute_result"
    }
   ],
   "source": [
    "md_epi_tran_20 = md_epi_tran.iloc[:20, :].copy()\n",
    "uncombined_20 = uncombined.iloc[:20, :].copy()\n",
    "md_epi_tran_20"
   ]
  },
  {
   "cell_type": "code",
   "execution_count": null,
   "metadata": {
    "id": "CxMPiD5Z3jt_"
   },
   "outputs": [],
   "source": [
    "md_epi_tran_20.to_csv('/content/gdrive/MyDrive/DataScience/Masters/453_Final_Project/md_epi_tran_20.csv')"
   ]
  },
  {
   "cell_type": "code",
   "execution_count": null,
   "metadata": {
    "colab": {
     "base_uri": "https://localhost:8080/"
    },
    "executionInfo": {
     "elapsed": 191,
     "status": "ok",
     "timestamp": 1685572384910,
     "user": {
      "displayName": "Olivia. Martin",
      "userId": "09948875238606947895"
     },
     "user_tz": 300
    },
    "id": "VMYa6oXO7WtW",
    "outputId": "095c251f-200f-4faf-c51e-4793a0e6083f"
   },
   "outputs": [
    {
     "name": "stdout",
     "output_type": "stream",
     "text": [
      "Done\n"
     ]
    }
   ],
   "source": [
    "episode_list = md_epi_tran_20['complete_episode_info'].to_list()\n",
    "\n",
    "with open(r'/content/gdrive/MyDrive/DataScience/Masters/453_Final_Project/episode_list.txt', 'w') as fp:\n",
    "    for item in episode_list:\n",
    "        # write each item on a new line\n",
    "        fp.write(item)\n",
    "    print('Done')"
   ]
  },
  {
   "cell_type": "markdown",
   "metadata": {
    "id": "Pl6-A9WtH1MH"
   },
   "source": [
    "# Explore transcript and metadata"
   ]
  },
  {
   "cell_type": "code",
   "execution_count": null,
   "metadata": {
    "colab": {
     "base_uri": "https://localhost:8080/"
    },
    "executionInfo": {
     "elapsed": 143,
     "status": "ok",
     "timestamp": 1685395391106,
     "user": {
      "displayName": "Olivia. Martin",
      "userId": "09948875238606947895"
     },
     "user_tz": 300
    },
    "id": "28UPmHwe-izu",
    "outputId": "32874198-06f9-4b58-80ca-1738634c073e"
   },
   "outputs": [
    {
     "name": "stdout",
     "output_type": "stream",
     "text": [
      "<class 'pandas.core.frame.DataFrame'>\n",
      "RangeIndex: 937 entries, 0 to 936\n",
      "Data columns (total 7 columns):\n",
      " #   Column                       Non-Null Count  Dtype  \n",
      "---  ------                       --------------  -----  \n",
      " 0   podcast_name_title           937 non-null    object \n",
      " 1   podcast_description          937 non-null    object \n",
      " 2   podcast_publisher            937 non-null    object \n",
      " 3   podcast_episode_name_title   937 non-null    object \n",
      " 4   podcast_episode_description  937 non-null    object \n",
      " 5   podcast_episode_duration     937 non-null    float64\n",
      " 6   podcast_epsiode_transcript   937 non-null    object \n",
      "dtypes: float64(1), object(6)\n",
      "memory usage: 51.4+ KB\n"
     ]
    }
   ],
   "source": [
    "md_epi_tran.info()"
   ]
  },
  {
   "cell_type": "code",
   "execution_count": 24,
   "metadata": {
    "colab": {
     "base_uri": "https://localhost:8080/"
    },
    "executionInfo": {
     "elapsed": 126,
     "status": "ok",
     "timestamp": 1685831777009,
     "user": {
      "displayName": "Olivia. Martin",
      "userId": "09948875238606947895"
     },
     "user_tz": 300
    },
    "id": "_T21UtDSZ2pp",
    "outputId": "80b83863-f07e-4918-fa01-3e9a284d477f"
   },
   "outputs": [
    {
     "name": "stdout",
     "output_type": "stream",
     "text": [
      "<class 'pandas.core.frame.DataFrame'>\n",
      "Index: 20 entries, 2qGUC8klqETUSpaqmjjzDZ to 7aYqoH2GlWfX7rLTrbLhhC\n",
      "Data columns (total 11 columns):\n",
      " #   Column               Non-Null Count  Dtype \n",
      "---  ------               --------------  ----- \n",
      " 0   show_uri             20 non-null     object\n",
      " 1   show_name            20 non-null     object\n",
      " 2   show_description     20 non-null     object\n",
      " 3   publisher            20 non-null     object\n",
      " 4   language             20 non-null     object\n",
      " 5   rss_link             20 non-null     object\n",
      " 6   episode_name         20 non-null     object\n",
      " 7   episode_description  20 non-null     object\n",
      " 8   duration             20 non-null     int64 \n",
      " 9   metadata_combined    20 non-null     object\n",
      " 10  transcript           20 non-null     object\n",
      "dtypes: int64(1), object(10)\n",
      "memory usage: 2.4+ KB\n"
     ]
    }
   ],
   "source": [
    "uncombined_20.info()"
   ]
  },
  {
   "cell_type": "code",
   "execution_count": null,
   "metadata": {
    "colab": {
     "base_uri": "https://localhost:8080/"
    },
    "executionInfo": {
     "elapsed": 110,
     "status": "ok",
     "timestamp": 1685395392269,
     "user": {
      "displayName": "Olivia. Martin",
      "userId": "09948875238606947895"
     },
     "user_tz": 300
    },
    "id": "HAFOB_sBH4je",
    "outputId": "4305d974-aa51-4b63-8f0d-9445ba7758bc"
   },
   "outputs": [
    {
     "data": {
      "text/plain": [
       "Dr. Eric Berg                           6\n",
       "Traci Rubin                             3\n",
       "Watson Estates                          3\n",
       "Everyday Positivity                     3\n",
       "Deconstructor of Fun                    3\n",
       "                                       ..\n",
       "Jesse Nowlin and Steve Larsen           1\n",
       "Midgard Musings                         1\n",
       "OCRWC                                   1\n",
       "Josh, Collin and Ryan Dewitt            1\n",
       "What’s da cheese? With Sean and Valo    1\n",
       "Name: podcast_publisher, Length: 876, dtype: int64"
      ]
     },
     "execution_count": 56,
     "metadata": {},
     "output_type": "execute_result"
    }
   ],
   "source": [
    "md_epi_tran['podcast_publisher'].value_counts()"
   ]
  },
  {
   "cell_type": "code",
   "execution_count": 26,
   "metadata": {
    "colab": {
     "base_uri": "https://localhost:8080/"
    },
    "executionInfo": {
     "elapsed": 12,
     "status": "ok",
     "timestamp": 1685831822110,
     "user": {
      "displayName": "Olivia. Martin",
      "userId": "09948875238606947895"
     },
     "user_tz": 300
    },
    "id": "X3tMfQK1Z6Ht",
    "outputId": "0e7d0a9e-da93-4d44-c939-85d43698d367"
   },
   "outputs": [
    {
     "data": {
      "text/plain": [
       "Traci Rubin                             3\n",
       "Alpha Dave                              1\n",
       "Jeff Perla                              1\n",
       "North American Spine Society            1\n",
       "John & Tony, Tony & John                1\n",
       "J.D. Barker, J. Thorn, Zach Bohannon    1\n",
       "The Geek Buddies                        1\n",
       "Joseph Mendoza                          1\n",
       "Mary & Emily                            1\n",
       "The Bring The Juice Colts Podcast       1\n",
       "Kerry Ryan                              1\n",
       "Clara P. Baum                           1\n",
       "Quake                                   1\n",
       "Michael Booth                           1\n",
       "indelicates                             1\n",
       "Kanye And Nick                          1\n",
       "Michael Doyle                           1\n",
       "In All Kinds Of Weather Forecast        1\n",
       "Name: publisher, dtype: int64"
      ]
     },
     "execution_count": 26,
     "metadata": {},
     "output_type": "execute_result"
    }
   ],
   "source": [
    "uncombined_20['publisher'].value_counts()"
   ]
  },
  {
   "cell_type": "code",
   "execution_count": 54,
   "metadata": {
    "colab": {
     "base_uri": "https://localhost:8080/"
    },
    "executionInfo": {
     "elapsed": 132,
     "status": "ok",
     "timestamp": 1685833147987,
     "user": {
      "displayName": "Olivia. Martin",
      "userId": "09948875238606947895"
     },
     "user_tz": 300
    },
    "id": "M8LQjf4Ecu6p",
    "outputId": "c9caa3e7-7fd0-4e83-c4c2-c4ec0bfc0ce2"
   },
   "outputs": [
    {
     "data": {
      "text/plain": [
       "episode_filename_prefix\n",
       "7psoq8Y3hNucDOpkvMdgUy     1.0\n",
       "2SwLOKYPQV8fgEF4Bz7yyE     5.0\n",
       "4vAXbtqUuUdBMlwpMG6Vmc    22.0\n",
       "2sPrnOpqC5rI8iRsg4ukqg    22.0\n",
       "3yBUhLxrYeRr0C7VkdYeIQ    28.0\n",
       "0h7gxRjWha8AxCvfFGgCCz    28.0\n",
       "01vE6mGTKhqHsmEFfqjJUw    30.0\n",
       "1AoLSLAF2lez8AB64dcwCX    30.0\n",
       "2qGUC8klqETUSpaqmjjzDZ    31.0\n",
       "6TyJDjxJI5e0RRFarn1npg    40.0\n",
       "7pd7U8QIHkcKDdyRsTMc7X    45.0\n",
       "5xMABmLfFotg0qXp7ZFV8F    46.0\n",
       "7f9ybSZXkQ2DstreOYnMQy    48.0\n",
       "3NogVdgT0vAqssiaFGjeok    48.0\n",
       "6mGrJgs1NPKOX9tGIDcvRJ    51.0\n",
       "4nZLQJzqVb0tNX9kWXPcBn    54.0\n",
       "7aYqoH2GlWfX7rLTrbLhhC    75.0\n",
       "387HAZatqgSiW9vYoLxC6R    79.0\n",
       "4tsymFnj6cOkImzeJy09Gl    79.0\n",
       "27H9p8NlTsipbHy3tYv67i    87.0\n",
       "Name: length, dtype: float64"
      ]
     },
     "execution_count": 54,
     "metadata": {},
     "output_type": "execute_result"
    }
   ],
   "source": [
    "uncombined_20['length'].sort_values()"
   ]
  },
  {
   "cell_type": "code",
   "execution_count": 53,
   "metadata": {
    "colab": {
     "base_uri": "https://localhost:8080/",
     "height": 466
    },
    "executionInfo": {
     "elapsed": 355,
     "status": "ok",
     "timestamp": 1685833035185,
     "user": {
      "displayName": "Olivia. Martin",
      "userId": "09948875238606947895"
     },
     "user_tz": 300
    },
    "id": "SFcbt1_nIVg5",
    "outputId": "6a5b6905-b80f-4204-fa81-112a520f7dcd"
   },
   "outputs": [
    {
     "data": {
      "text/plain": [
       "<Axes: xlabel='length', ylabel='Count'>"
      ]
     },
     "execution_count": 53,
     "metadata": {},
     "output_type": "execute_result"
    },
    {
     "data": {
      "image/png": "[encoded data removed]",
      "text/plain": [
       "<Figure size 640x480 with 1 Axes>"
      ]
     },
     "metadata": {},
     "output_type": "display_data"
    }
   ],
   "source": [
    "sns.histplot(uncombined_20['length'], bins=10, binwidth=3)"
   ]
  },
  {
   "cell_type": "code",
   "execution_count": 59,
   "metadata": {
    "colab": {
     "base_uri": "https://localhost:8080/",
     "height": 523
    },
    "executionInfo": {
     "elapsed": 569,
     "status": "ok",
     "timestamp": 1685833616163,
     "user": {
      "displayName": "Olivia. Martin",
      "userId": "09948875238606947895"
     },
     "user_tz": 300
    },
    "id": "j9PiU1-Vfw8K",
    "outputId": "ffbf3a98-6b9b-43a1-e091-a8464b5908aa"
   },
   "outputs": [
    {
     "data": {
      "text/plain": [
       "<seaborn.axisgrid.FacetGrid at 0x7f28ac657df0>"
      ]
     },
     "execution_count": 59,
     "metadata": {},
     "output_type": "execute_result"
    },
    {
     "data": {
      "image/png": "[encoded data removed]",
      "text/plain": [
       "<Figure size 500x500 with 1 Axes>"
      ]
     },
     "metadata": {},
     "output_type": "display_data"
    }
   ],
   "source": [
    "sns.displot(uncombined_20['length'], kde=True)"
   ]
  },
  {
   "cell_type": "code",
   "execution_count": null,
   "metadata": {
    "id": "a0pmVaT0aJGN"
   },
   "outputs": [],
   "source": [
    "sns.histplot(md_epi_tran['podcast_episode_duration'])"
   ]
  },
  {
   "cell_type": "code",
   "execution_count": null,
   "metadata": {
    "id": "mOEslhLdOX72"
   },
   "outputs": [],
   "source": [
    "# standard table\n",
    "# md_epi_tran.to_csv('/content/gdrive/MyDrive/DataScience/Masters/453_Final_Project/episode_md2021.csv')"
   ]
  },
  {
   "cell_type": "code",
   "execution_count": null,
   "metadata": {
    "id": "JHOdGewJw8EJ"
   },
   "outputs": [],
   "source": []
  }
 ],
 "metadata": {
  "colab": {
   "authorship_tag": "ABX9TyMDbcQUHgkvuCTEcD4mfdTL",
   "provenance": []
  },
  "kernelspec": {
   "display_name": "Python 3 (ipykernel)",
   "language": "python",
   "name": "python3"
  },
  "language_info": {
   "codemirror_mode": {
    "name": "ipython",
    "version": 3
   },
   "file_extension": ".py",
   "mimetype": "text/x-python",
   "name": "python",
   "nbconvert_exporter": "python",
   "pygments_lexer": "ipython3",
   "version": "3.8.16"
  }
 },
 "nbformat": 4,
 "nbformat_minor": 1
}
