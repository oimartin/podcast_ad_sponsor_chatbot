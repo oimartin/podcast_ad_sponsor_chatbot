{
 "cells": [
  {
   "cell_type": "code",
   "execution_count": 9,
   "metadata": {},
   "outputs": [],
   "source": [
    "import nltk\n",
    "import random\n",
    "\n",
    "# !pip install sentence_transformers\n",
    "from sklearn.metrics.pairwise import cosine_similarity\n",
    "\n",
    "from elasticsearch import Elasticsearch\n",
    "import pandas as pd\n",
    "import pprint\n",
    "\n",
    "import time"
   ]
  },
  {
   "cell_type": "code",
   "execution_count": 10,
   "metadata": {},
   "outputs": [],
   "source": [
    "# Assuming you have already created an Elasticsearch client instance 'es'\n",
    "es = Elasticsearch(\"http://localhost:9200\")"
   ]
  },
  {
   "cell_type": "code",
   "execution_count": 11,
   "metadata": {},
   "outputs": [],
   "source": [
    "# Define the episode_uri and query\n",
    "episode_uri = \"spotify:episode:4sbSs1xtuf8dF3xtb7btUi\"\n",
    "query = \"who are the advertisers, sponsors, codes, advertisement, or ads and/or businesses?\"\n",
    "\n",
    "# Construct the Elasticsearch query\n",
    "query = {\n",
    "    \"query\": {\n",
    "        \"term\": {\n",
    "            \"episode_uri\": episode_uri\n",
    "        }\n",
    "    }\n",
    "}\n",
    "\n",
    "# Perform the search\n",
    "result = es.search(index=\"transcripts_sentences\", body=query)\n",
    "\n",
    "# Process the search results\n",
    "for hit in result[\"hits\"][\"hits\"]:\n",
    "    sentence = hit[\"_source\"][\"sentence\"]\n",
    "    score = hit[\"_score\"]\n",
    "    print(\"Sentence:\", sentence)\n",
    "    print(\"Score:\", score)"
   ]
  },
  {
   "cell_type": "code",
   "execution_count": 12,
   "metadata": {},
   "outputs": [
    {
     "data": {
      "text/plain": [
       "{'took': 1642,\n",
       " 'timed_out': False,\n",
       " '_shards': {'total': 1, 'successful': 1, 'skipped': 0, 'failed': 0},\n",
       " 'hits': {'total': {'value': 0, 'relation': 'eq'},\n",
       "  'max_score': None,\n",
       "  'hits': []}}"
      ]
     },
     "execution_count": 12,
     "metadata": {},
     "output_type": "execute_result"
    }
   ],
   "source": [
    "result"
   ]
  },
  {
   "cell_type": "code",
   "execution_count": null,
   "metadata": {},
   "outputs": [],
   "source": []
  }
 ],
 "metadata": {
  "kernelspec": {
   "display_name": "py38",
   "language": "python",
   "name": "python3"
  },
  "language_info": {
   "codemirror_mode": {
    "name": "ipython",
    "version": 3
   },
   "file_extension": ".py",
   "mimetype": "text/x-python",
   "name": "python",
   "nbconvert_exporter": "python",
   "pygments_lexer": "ipython3",
   "version": "3.8.16"
  },
  "orig_nbformat": 4,
  "vscode": {
   "interpreter": {
    "hash": "6fecde6947892c09517ced00c50f9815f87f946c7d997fc83be91faa768600f1"
   }
  }
 },
 "nbformat": 4,
 "nbformat_minor": 2
}
